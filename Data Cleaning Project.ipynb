{
 "cells": [
  {
   "cell_type": "markdown",
   "metadata": {},
   "source": [
    "# Big Data Midterm Exam\n",
    "\n",
    "In the project, we perform data cleaning steps on the raw data collected from social networks."
   ]
  },
  {
   "cell_type": "markdown",
   "metadata": {},
   "source": [
    "### Install requirements"
   ]
  },
  {
   "cell_type": "code",
   "execution_count": null,
   "metadata": {},
   "outputs": [],
   "source": [
    "! pip install nltk\n",
    "! pip install pandas\n",
    "! pip install autocorrect "
   ]
  },
  {
   "cell_type": "markdown",
   "metadata": {},
   "source": [
    "### import libraries"
   ]
  },
  {
   "cell_type": "code",
   "execution_count": 133,
   "metadata": {},
   "outputs": [],
   "source": [
    "import pandas as pd\n",
    "import nltk\n",
    "import re"
   ]
  },
  {
   "cell_type": "markdown",
   "metadata": {},
   "source": [
    "### load datasets "
   ]
  },
  {
   "cell_type": "code",
   "execution_count": 134,
   "metadata": {},
   "outputs": [
    {
     "data": {
      "text/html": [
       "<div>\n",
       "<style scoped>\n",
       "    .dataframe tbody tr th:only-of-type {\n",
       "        vertical-align: middle;\n",
       "    }\n",
       "\n",
       "    .dataframe tbody tr th {\n",
       "        vertical-align: top;\n",
       "    }\n",
       "\n",
       "    .dataframe thead th {\n",
       "        text-align: right;\n",
       "    }\n",
       "</style>\n",
       "<table border=\"1\" class=\"dataframe\">\n",
       "  <thead>\n",
       "    <tr style=\"text-align: right;\">\n",
       "      <th></th>\n",
       "      <th>0</th>\n",
       "    </tr>\n",
       "  </thead>\n",
       "  <tbody>\n",
       "    <tr>\n",
       "      <th>0</th>\n",
       "      <td>my teachers seeing me submit my assignment at ...</td>\n",
       "    </tr>\n",
       "    <tr>\n",
       "      <th>1</th>\n",
       "      <td>My uncle just got married. My uncle just got m...</td>\n",
       "    </tr>\n",
       "    <tr>\n",
       "      <th>2</th>\n",
       "      <td>This is sad. The story of this girls break up....</td>\n",
       "    </tr>\n",
       "    <tr>\n",
       "      <th>3</th>\n",
       "      <td>How much reddit karma is considered a lot? Two...</td>\n",
       "    </tr>\n",
       "    <tr>\n",
       "      <th>4</th>\n",
       "      <td>cat attack my cat decided to jump out from und...</td>\n",
       "    </tr>\n",
       "  </tbody>\n",
       "</table>\n",
       "</div>"
      ],
      "text/plain": [
       "                                                   0\n",
       "0  my teachers seeing me submit my assignment at ...\n",
       "1  My uncle just got married. My uncle just got m...\n",
       "2  This is sad. The story of this girls break up....\n",
       "3  How much reddit karma is considered a lot? Two...\n",
       "4  cat attack my cat decided to jump out from und..."
      ]
     },
     "execution_count": 134,
     "metadata": {},
     "output_type": "execute_result"
    }
   ],
   "source": [
    "df = pd.read_csv(\"dataset.csv\", header=None)\n",
    "df.head()"
   ]
  },
  {
   "cell_type": "code",
   "execution_count": 135,
   "metadata": {},
   "outputs": [
    {
     "data": {
      "text/plain": [
       "\"                                                                                                                                                                                                                                                                                                                                                                                                                                                   0\\n0                                                                                                                                                                                                                                                          my teachers seeing me submit my assignment at 3am again: 👁️👄👁️ i wonder if my teachers are silently judging me :/\\\\n\\\\n\\\\n\\\\n&amp;#x200B;\\\\n\\\\n\\\\n\\\\nfiller filter flicker snicker bicker clicker\\n1                                                                                                                                                                                                               My uncle just got married. My uncle just got married to a beautiful wife and I would like to present him with something. I couldn’t think of anything else but to tell you guys. Congratulations Uncle Jeremy! I’m so happy for you!\\n2                                                                                                                                                                                                     This is sad. The story of this girls break up. https://www.reddit.com/r/Advice/comments/jco47r/im_only_13_and_im_being_stressed_over_some_stupid/?utm_medium=android_app&amp;utm_source=share\\\\n\\\\n\\\\n\\\\nI dont need any karma, go and suport her.\\n3                                                                                                                                                                                                            How much reddit karma is considered a lot? Two days ago marked my 1 year anniversary of being on reddit. And in that time I have accumulated a bit more than 80,000 karma. So I was just wondering, how much karma is considered a lot?\\n4                                                                                                                                                                                                            cat attack my cat decided to jump out from underneath a chair and attack me he barely even scratched me but my cat is annoying his name is Eddy/Edmond he's always surprising us because most of the time he's super friendly fun times\\n5                                                                                                                                                                                                             The first YouTube video was made closer to 1989 than it was to today Look at the months. It has been 15 years and 5 months since the video was made, and back then the video was made 15 years and 4 months away from December of 1989\\n6                                                                                                                                                                                                       Why do Chinese people speak Chinese when it is very difficult? They should just learn and easier language like English or Spanish. They speak like 8 languages in China but I won't list them.\\\\n\\\\n\\\\n\\\\nEdit : actually they speak a lot more.\\n7                                                                                                                                                                                                                                                                                                                             Ok who should I draw a portrait of I'm bored and need inspiration so yeah. Idk, ig I'll pick my favorite and draw that\\n8                                                                                                                                                                                                                                                                                                                             Can you recommend me any music to listen to So I'm bored and can't fall asleep do you guys know any good songs, bands?\\n9                                                                                                                                                                                                                                                                                                                               I tried saying can i get 1mil subs for no reason and got a lot of hate, boy it’s a joke https://youtu.be/exobRyhH5fg\\n10                                                                                                                                                                                                                                                                                                                             Are you guys allowed to switch off your cameras during online class? Because I'm not Maybe it's an American thing idk\\n11                                                                                                                                                                                                                                                                                                                             To anyone here who is worried about college remember one thing If Kaitlyn Bennett can get through college you can too\\n12                                                                                                                                                                                                                                                                                                                             I finally did it!! After a year with my Learner's Permit, I finally took the Driver's License test today and passed!!\\n13                                                                                                                                                                                                                                                                                                                          Reddit costs $1.8 billion If we raise the money we can buy Reddit to make things crash quicker\\\\n\\\\nPlease spread the news\\n14                                                                                                                                                                                                                                                                                                                     God the princess and the frog is such an         underrated Disney princess movie Probably my favorite Disney princess movies\\n15                                                                                                                                                                                                                                                                                                                          If you want to feel wanted by someone Just rob a bankkkk, now the whole police will be looking for you. Works everytime.\\n16                                                                                                                                                                                                                                                                                                                                                                                    why are you all so depressed Stop being depressed just be hapy\\n17                                                                                                                                                                                                                                                                                                                              Draw with me part 2 [https://r7.whiteboardfox.com/7691988-9928-1785](https://r7.whiteboardfox.com/7691988-9928-1785)\\n18                                                                                                                                                                                                                                                                                                                              Why do people hate British uniforms? They all look so pretty, I don't understand why people think that they're ugly.\\n19                                                                                                                                                                                                                                                                                                                             How do i join minecraft serves through my ps4? I recently bought minecraft so don't know \\\\nAlso is ps plus necessary?\\n20                                                                                                                                                                                                                                                                                                                               I got an A for writing an essay on a book I didn't read. It was an in clas write so I only had 55 minutes to do it.\\n21                                                                                                                                                                                                                                                                                                                        Yo let's chat, hmu if you are interested Tryna make some friiiieeeennndddsssssssssssssssssssssssssss\\\\n\\\\n\\\\n\\\\nAlso I'm bored\\n22                                                                                                                                                                                                                                                                         Why does the thought of dieing make me hapy?I have a pllan. it's going to happen. If i wasn't waiting on something I would go right now. Why do these thoughts excite me?\\n23                                                                                                                                                                                                                                  i'm still alive, but I'm deleting my Reddit tomorrowthanks for all the kind messages and all, but this place is too fucking toxic to continue being here. if u wanna talk to me, I have discord: aquamarine#3232\\n24                                                                                                                                                                                                                                                                                                                                 Writing something positive about my day, day #261 I slept for a while the night before so I wasn’t as tired today\\n25                                                                                                                                                                                                                                                                                                                               Fun Fact: You are never not using your skeleton #  #  #  #  #  #  #  #  #  #  #  #  #  #  #  #  #  #  #  #  #  #  #\\n26                                                                                                                                                                                                                                                                                                                             It’s not even 5 yet and it’s dark outside WHYYYYYY\\\\n\\\\n\\\\n\\\\nThis is getting ridiculous. The sun needs to stop slacking.\\n27                                                                                                                                                                                                                                                                                                                   I am listening to songs..... SDCARD/Music/Hans Zimmer/Inception/Mombasa.wav\\\\n\\\\n\\\\n\\\\n\\\\n\\\\n\\\\n\\\\nWith Surround Sound ON on SoundAlive\\n28                                                                                                                                                                                                                                                                                                                                Is it just me... That has thoughts about cringy/embarrassing alternate scenarios that almost hapened in your life?\\n29                                                                                                                                                                                                                                                                                                                                 Name Your Mood And I’ll Recommend A Song Will try to pick a song that you will enjoy based on your mood. Enjoy :)\\n30                                                                                                                                                                                                                                                                                                                             Whats a #song you can recommend to everyone No matter what #genre they like, what song can you recommend to everyone?\\n31                                                                                                                                                                                                                                                                                                       How do I change my iOS 14 app logos to my own photos? I’m being honestly I do not know how to change my app logos           #heeelllllppppp\\n32                                                                                                                                                                                                                                                                                                                         Spicy fried chicken &gt;&gt;&gt;&gt;&gt; the spice, the tender meat, the aroma\\\\n\\\\n\\\\n\\\\neverything about it is just so good\\n33                                                                                                                                                                                                                                                                                                                                                                S.T.A.L.K.E.R., Metro, or Fallout? I just want to hear your opiniuns on the games.\\n34                                                                                                                                                                                                                                                                                                                                                                    Funniest comment gets free “helpful” award because I really need to laugh... E\\n35                                                                                                                                                                                                                                                                                                                                                                Lalalalalalalalalalalalalalalalalalalalalalala BRBRBRBRBRBRBRBRBRBRBRBRBRBRBRBRBRB\\n36                                                                                                                                                                                                                                                                                                                                                                              I dont like emojis But i can make exceptions for this ones\\\\n\\\\n🚹🕎🔯♻️🧼\\n37                                                                                                                                                                                                                                                                                                                                                           WILLIAMS' GOT AN INVESTMENT!! I don't know about investments but\\\\n\\\\n\\\\n\\\\nGO WILLIAMS GO.\\n38                                                                                                                                                                                                                                                                                                                                                                 u/coolstarfish55 is my favorite redditor u/coolstarfish55 is my favorite redditor\\n39                                                                                                                                                                                                                                                                                                                                                                 Now I'll be the best user of teenagers And my competitors will be turned to stone\\n40                                                                                                                                                                                                                                                                     methodsjust a purely theoretic discussion about the easiest ways out. what would be your prefered way? with the least impact to your family and least destruction of body? \\\\n\\n41                                                                                                                                                                                                                                         Sleeping pillsHow to kill myself most effectively using sleeping pills and alcohol (like vodka)? I don't want to end up being a vegetable. Only that holds me back, that's why I'm asking you my friends.\\n42                          someone please, please tell me not toim not a good person and i want it to stop i want itt o stop so b ad but i'm scared of what would happen but i just want it over i don't know what to do. i hurt my friends and t hey stalked me but it was my fault in the first plae c and all they saw was lies lies lies lies lies . about Them\\\\n\\\\n\\\\n\\\\ni don't think g-d wants me here anymore. i think im supposed to be  gone\\n43                                                                                                                                                                                                                                                           Have 60 - 1mg Xanax. Thinking about taking them all. Don't know why I'm even postingIt's all too much. It hurts everyday. My sleep is only when I have peace. I just want that forever.\\n44                                                                                                                                                                                                                                                                                                                                                                 Day one of posting until something interesting happens Qwertyyiopasdfghjklzxcvbnm\\n45                                                                                                                                                                                                                                                                                                                                                                Guess who can't sleep again How am I supposed to die in my sleep if I can't sleep?\\n46                                                                                                                                                                                                                                                                                                                                                             I don't think I'll do itIt's awfully temping though. Just going through a rough patch\\n47                  I see no reason to be here, no one actually loves, everyone is just faking caring about me.No one actually cares to listen and understand me.\\\\n\\\\nIm at fault of everything, nothing is reversable. Nothing makes me happy absolutely nothing.\\\\n\\\\nI have a plan to go outside the city and hang myself on a tree. I even picked a specific tree, its easy to climb has a place to tie a rope, and thick enough to hold my weight.\\n48  I have very few reasons left to be here. Here's some to not.1) My year and a half long relationship just ended \\\\n\\\\n2) People.think im taking/lying about being suicidal. \\\\n\\\\n3) Family is splitting up\\\\n\\\\n4) Sexual assault\\\\n\\\\n5) School sucks\\\\n\\\\n\\\\n\\\\nIf anyone can talk?? At all??? Im so close. I want it to either go away or I'll make it go away. I'm in therapy. On meds (kinda) gone to my last resorts a few times (police and hospital)\\n49                                                                                                                                                                                                                                                                                                                                                                I FINALLY TOLD MY CRUSH I LIKED HIM AND HE LIKES ME BACK!!! IM SUPER HAPPY :DDDDDD\""
      ]
     },
     "execution_count": 135,
     "metadata": {},
     "output_type": "execute_result"
    }
   ],
   "source": [
    "data = df.to_string() \n",
    "data"
   ]
  },
  {
   "cell_type": "markdown",
   "metadata": {},
   "source": [
    "# Data Cleaning Steps"
   ]
  },
  {
   "cell_type": "markdown",
   "metadata": {},
   "source": [
    "### a. Remove newlines and Tabs\n"
   ]
  },
  {
   "cell_type": "code",
   "execution_count": 140,
   "metadata": {},
   "outputs": [
    {
     "data": {
      "text/plain": [
       "\" 0 0 my teachers seeing me submit my assignment at 3am again: 👁️👄👁️ i wonder if my teachers are silently judging me :/ &amp;#x200B; filler filter flicker snicker bicker clicker 1 My uncle just got married. My uncle just got married to a beautiful wife and I would like to present him with something. I couldn’t think of anything else but to tell you guys. Congratulations Uncle Jeremy! I’m so happy for you! 2 This is sad. The story of this girls break up. https://www.reddit.com/r/Advice/comments/jco47r/im_only_13_and_im_being_stressed_over_some_stupid/?utm_medium=android_app&amp;utm_source=share I dont need any karma, go and suport her. 3 How much reddit karma is considered a lot? Two days ago marked my 1 year anniversary of being on reddit. And in that time I have accumulated a bit more than 80,000 karma. So I was just wondering, how much karma is considered a lot? 4 cat attack my cat decided to jump out from underneath a chair and attack me he barely even scratched me but my cat is annoying his name is Eddy/Edmond he's always surprising us because most of the time he's super friendly fun times 5 The first YouTube video was made closer to 1989 than it was to today Look at the months. It has been 15 years and 5 months since the video was made, and back then the video was made 15 years and 4 months away from December of 1989 6 Why do Chinese people speak Chinese when it is very difficult? They should just learn and easier language like English or Spanish. They speak like 8 languages in China but I won't list them. Edit : actually they speak a lot more. 7 Ok who should I draw a portrait of I'm bored and need inspiration so yeah. Idk, ig I'll pick my favorite and draw that 8 Can you recommend me any music to listen to So I'm bored and can't fall asleep do you guys know any good songs, bands? 9 I tried saying can i get 1mil subs for no reason and got a lot of hate, boy it’s a joke https://youtu.be/exobRyhH5fg 10 Are you guys allowed to switch off your cameras during online class? Because I'm not Maybe it's an American thing idk 11 To anyone here who is worried about college remember one thing If Kaitlyn Bennett can get through college you can too 12 I finally did it!! After a year with my Learner's Permit, I finally took the Driver's License test today and passed!! 13 Reddit costs $1.8 billion If we raise the money we can buy Reddit to make things crash quicker Please spread the news 14 God the princess and the frog is such an underrated Disney princess movie Probably my favorite Disney princess movies 15 If you want to feel wanted by someone Just rob a bankkkk, now the whole police will be looking for you. Works everytime. 16 why are you all so depressed Stop being depressed just be hapy 17 Draw with me part 2 [https://r7.whiteboardfox.com/7691988-9928-1785](https://r7.whiteboardfox.com/7691988-9928-1785) 18 Why do people hate British uniforms? They all look so pretty, I don't understand why people think that they're ugly. 19 How do i join minecraft serves through my ps4? I recently bought minecraft so don't know Also is ps plus necessary? 20 I got an A for writing an essay on a book I didn't read. It was an in clas write so I only had 55 minutes to do it. 21 Yo let's chat, hmu if you are interested Tryna make some friiiieeeennndddsssssssssssssssssssssssssss Also I'm bored 22 Why does the thought of dieing make me hapy?I have a pllan. it's going to happen. If i wasn't waiting on something I would go right now. Why do these thoughts excite me? 23 i'm still alive, but I'm deleting my Reddit tomorrowthanks for all the kind messages and all, but this place is too fucking toxic to continue being here. if u wanna talk to me, I have discord: aquamarine#3232 24 Writing something positive about my day, day #261 I slept for a while the night before so I wasn’t as tired today 25 Fun Fact: You are never not using your skeleton # # # # # # # # # # # # # # # # # # # # # # # 26 It’s not even 5 yet and it’s dark outside WHYYYYYY This is getting ridiculous. The sun needs to stop slacking. 27 I am listening to songs..... SDCARD/Music/Hans Zimmer/Inception/Mombasa.wav With Surround Sound ON on SoundAlive 28 Is it just me... That has thoughts about cringy/embarrassing alternate scenarios that almost hapened in your life? 29 Name Your Mood And I’ll Recommend A Song Will try to pick a song that you will enjoy based on your mood. Enjoy :) 30 Whats a #song you can recommend to everyone No matter what #genre they like, what song can you recommend to everyone? 31 How do I change my iOS 14 app logos to my own photos? I’m being honestly I do not know how to change my app logos #heeelllllppppp 32 Spicy fried chicken &gt;&gt;&gt;&gt;&gt; the spice, the tender meat, the aroma everything about it is just so good 33 S.T.A.L.K.E.R., Metro, or Fallout? I just want to hear your opiniuns on the games. 34 Funniest comment gets free “helpful” award because I really need to laugh... E 35 Lalalalalalalalalalalalalalalalalalalalalalala BRBRBRBRBRBRBRBRBRBRBRBRBRBRBRBRBRB 36 I dont like emojis But i can make exceptions for this ones 🚹🕎🔯♻️🧼 37 WILLIAMS' GOT AN INVESTMENT!! I don't know about investments but GO WILLIAMS GO. 38 u/coolstarfish55 is my favorite redditor u/coolstarfish55 is my favorite redditor 39 Now I'll be the best user of teenagers And my competitors will be turned to stone 40 methodsjust a purely theoretic discussion about the easiest ways out. what would be your prefered way? with the least impact to your family and least destruction of body? 41 Sleeping pillsHow to kill myself most effectively using sleeping pills and alcohol (like vodka)? I don't want to end up being a vegetable. Only that holds me back, that's why I'm asking you my friends. 42 someone please, please tell me not toim not a good person and i want it to stop i want itt o stop so b ad but i'm scared of what would happen but i just want it over i don't know what to do. i hurt my friends and t hey stalked me but it was my fault in the first plae c and all they saw was lies lies lies lies lies . about Them i don't think g-d wants me here anymore. i think im supposed to be gone 43 Have 60 - 1mg Xanax. Thinking about taking them all. Don't know why I'm even postingIt's all too much. It hurts everyday. My sleep is only when I have peace. I just want that forever. 44 Day one of posting until something interesting happens Qwertyyiopasdfghjklzxcvbnm 45 Guess who can't sleep again How am I supposed to die in my sleep if I can't sleep? 46 I don't think I'll do itIt's awfully temping though. Just going through a rough patch 47 I see no reason to be here, no one actually loves, everyone is just faking caring about me.No one actually cares to listen and understand me. Im at fault of everything, nothing is reversable. Nothing makes me happy absolutely nothing. I have a plan to go outside the city and hang myself on a tree. I even picked a specific tree, its easy to climb has a place to tie a rope, and thick enough to hold my weight. 48 I have very few reasons left to be here. Here's some to not.1) My year and a half long relationship just ended 2) People.think im taking/lying about being suicidal. 3) Family is splitting up 4) Sexual assault 5) School sucks If anyone can talk?? At all??? Im so close. I want it to either go away or I'll make it go away. I'm in therapy. On meds (kinda) gone to my last resorts a few times (police and hospital) 49 I FINALLY TOLD MY CRUSH I LIKED HIM AND HE LIKES ME BACK!!! IM SUPER HAPPY :DDDDDD\""
      ]
     },
     "execution_count": 140,
     "metadata": {},
     "output_type": "execute_result"
    }
   ],
   "source": [
    "clean_data = data.replace(\"\\\\n\", \" \") # remove new lines \\n\n",
    "clean_data = clean_data.replace(\"\\\\t\", \" \") # remove tabs\n",
    "clean_data = re.sub(re.compile(r'\\s+'), \" \", clean_data) # remove white spaces\n",
    "\n",
    "clean_data"
   ]
  },
  {
   "cell_type": "markdown",
   "metadata": {},
   "source": [
    "### b. Remove Punctuation/ Unicode characters/ Special Characters\n",
    "\n",
    "Before processing the text, we must remove the extra, non-semantic and **non-informative characters** in the sentence. These characters are digits, white spaces, and others non-informative characters like {, }, =, @, &, %, $, ^, <, >, !, ?, ;, \\n, \\t, (, ."
   ]
  },
  {
   "cell_type": "markdown",
   "metadata": {},
   "source": [
    "we done the following steps in this section of data cleaning \n",
    "- unicode characters\n",
    "- remove URLs \n",
    "- remove HTML tags\n",
    "- unwanted digits\n",
    "- spacial caracters and Punctuations"
   ]
  },
  {
   "cell_type": "markdown",
   "metadata": {},
   "source": [
    "1. unicode characters"
   ]
  },
  {
   "cell_type": "code",
   "execution_count": 141,
   "metadata": {},
   "outputs": [
    {
     "data": {
      "text/plain": [
       "\" 0 0 my teachers seeing me submit my assignment at 3am again:  i wonder if my teachers are silently judging me :/ &amp;#x200B; filler filter flicker snicker bicker clicker 1 My uncle just got married. My uncle just got married to a beautiful wife and I would like to present him with something. I couldnt think of anything else but to tell you guys. Congratulations Uncle Jeremy! Im so happy for you! 2 This is sad. The story of this girls break up. https://www.reddit.com/r/Advice/comments/jco47r/im_only_13_and_im_being_stressed_over_some_stupid/?utm_medium=android_app&amp;utm_source=share I dont need any karma, go and suport her. 3 How much reddit karma is considered a lot? Two days ago marked my 1 year anniversary of being on reddit. And in that time I have accumulated a bit more than 80,000 karma. So I was just wondering, how much karma is considered a lot? 4 cat attack my cat decided to jump out from underneath a chair and attack me he barely even scratched me but my cat is annoying his name is Eddy/Edmond he's always surprising us because most of the time he's super friendly fun times 5 The first YouTube video was made closer to 1989 than it was to today Look at the months. It has been 15 years and 5 months since the video was made, and back then the video was made 15 years and 4 months away from December of 1989 6 Why do Chinese people speak Chinese when it is very difficult? They should just learn and easier language like English or Spanish. They speak like 8 languages in China but I won't list them. Edit : actually they speak a lot more. 7 Ok who should I draw a portrait of I'm bored and need inspiration so yeah. Idk, ig I'll pick my favorite and draw that 8 Can you recommend me any music to listen to So I'm bored and can't fall asleep do you guys know any good songs, bands? 9 I tried saying can i get 1mil subs for no reason and got a lot of hate, boy its a joke https://youtu.be/exobRyhH5fg 10 Are you guys allowed to switch off your cameras during online class? Because I'm not Maybe it's an American thing idk 11 To anyone here who is worried about college remember one thing If Kaitlyn Bennett can get through college you can too 12 I finally did it!! After a year with my Learner's Permit, I finally took the Driver's License test today and passed!! 13 Reddit costs $1.8 billion If we raise the money we can buy Reddit to make things crash quicker Please spread the news 14 God the princess and the frog is such an underrated Disney princess movie Probably my favorite Disney princess movies 15 If you want to feel wanted by someone Just rob a bankkkk, now the whole police will be looking for you. Works everytime. 16 why are you all so depressed Stop being depressed just be hapy 17 Draw with me part 2 [https://r7.whiteboardfox.com/7691988-9928-1785](https://r7.whiteboardfox.com/7691988-9928-1785) 18 Why do people hate British uniforms? They all look so pretty, I don't understand why people think that they're ugly. 19 How do i join minecraft serves through my ps4? I recently bought minecraft so don't know Also is ps plus necessary? 20 I got an A for writing an essay on a book I didn't read. It was an in clas write so I only had 55 minutes to do it. 21 Yo let's chat, hmu if you are interested Tryna make some friiiieeeennndddsssssssssssssssssssssssssss Also I'm bored 22 Why does the thought of dieing make me hapy?I have a pllan. it's going to happen. If i wasn't waiting on something I would go right now. Why do these thoughts excite me? 23 i'm still alive, but I'm deleting my Reddit tomorrowthanks for all the kind messages and all, but this place is too fucking toxic to continue being here. if u wanna talk to me, I have discord: aquamarine#3232 24 Writing something positive about my day, day #261 I slept for a while the night before so I wasnt as tired today 25 Fun Fact: You are never not using your skeleton # # # # # # # # # # # # # # # # # # # # # # # 26 Its not even 5 yet and its dark outside WHYYYYYY This is getting ridiculous. The sun needs to stop slacking. 27 I am listening to songs..... SDCARD/Music/Hans Zimmer/Inception/Mombasa.wav With Surround Sound ON on SoundAlive 28 Is it just me... That has thoughts about cringy/embarrassing alternate scenarios that almost hapened in your life? 29 Name Your Mood And Ill Recommend A Song Will try to pick a song that you will enjoy based on your mood. Enjoy :) 30 Whats a #song you can recommend to everyone No matter what #genre they like, what song can you recommend to everyone? 31 How do I change my iOS 14 app logos to my own photos? Im being honestly I do not know how to change my app logos #heeelllllppppp 32 Spicy fried chicken &gt;&gt;&gt;&gt;&gt; the spice, the tender meat, the aroma everything about it is just so good 33 S.T.A.L.K.E.R., Metro, or Fallout? I just want to hear your opiniuns on the games. 34 Funniest comment gets free helpful award because I really need to laugh... E 35 Lalalalalalalalalalalalalalalalalalalalalalala BRBRBRBRBRBRBRBRBRBRBRBRBRBRBRBRBRB 36 I dont like emojis But i can make exceptions for this ones  37 WILLIAMS' GOT AN INVESTMENT!! I don't know about investments but GO WILLIAMS GO. 38 u/coolstarfish55 is my favorite redditor u/coolstarfish55 is my favorite redditor 39 Now I'll be the best user of teenagers And my competitors will be turned to stone 40 methodsjust a purely theoretic discussion about the easiest ways out. what would be your prefered way? with the least impact to your family and least destruction of body? 41 Sleeping pillsHow to kill myself most effectively using sleeping pills and alcohol (like vodka)? I don't want to end up being a vegetable. Only that holds me back, that's why I'm asking you my friends. 42 someone please, please tell me not toim not a good person and i want it to stop i want itt o stop so b ad but i'm scared of what would happen but i just want it over i don't know what to do. i hurt my friends and t hey stalked me but it was my fault in the first plae c and all they saw was lies lies lies lies lies . about Them i don't think g-d wants me here anymore. i think im supposed to be gone 43 Have 60 - 1mg Xanax. Thinking about taking them all. Don't know why I'm even postingIt's all too much. It hurts everyday. My sleep is only when I have peace. I just want that forever. 44 Day one of posting until something interesting happens Qwertyyiopasdfghjklzxcvbnm 45 Guess who can't sleep again How am I supposed to die in my sleep if I can't sleep? 46 I don't think I'll do itIt's awfully temping though. Just going through a rough patch 47 I see no reason to be here, no one actually loves, everyone is just faking caring about me.No one actually cares to listen and understand me. Im at fault of everything, nothing is reversable. Nothing makes me happy absolutely nothing. I have a plan to go outside the city and hang myself on a tree. I even picked a specific tree, its easy to climb has a place to tie a rope, and thick enough to hold my weight. 48 I have very few reasons left to be here. Here's some to not.1) My year and a half long relationship just ended 2) People.think im taking/lying about being suicidal. 3) Family is splitting up 4) Sexual assault 5) School sucks If anyone can talk?? At all??? Im so close. I want it to either go away or I'll make it go away. I'm in therapy. On meds (kinda) gone to my last resorts a few times (police and hospital) 49 I FINALLY TOLD MY CRUSH I LIKED HIM AND HE LIKES ME BACK!!! IM SUPER HAPPY :DDDDDD\""
      ]
     },
     "execution_count": 141,
     "metadata": {},
     "output_type": "execute_result"
    }
   ],
   "source": [
    "clean_data = clean_data.encode(\"ascii\", \"ignore\") \n",
    "clean_data = clean_data.decode()\n",
    "\n",
    "clean_data"
   ]
  },
  {
   "cell_type": "markdown",
   "metadata": {},
   "source": [
    "f. remove URLs "
   ]
  },
  {
   "cell_type": "code",
   "execution_count": 142,
   "metadata": {},
   "outputs": [
    {
     "data": {
      "text/plain": [
       "\" 0 0 my teachers seeing me submit my assignment at 3am again:  i wonder if my teachers are silently judging me :/ &amp;#x200B; filler filter flicker snicker bicker clicker 1 My uncle just got married. My uncle just got married to a beautiful wife and I would like to present him with something. I couldnt think of anything else but to tell you guys. Congratulations Uncle Jeremy! Im so happy for you! 2 This is sad. The story of this girls break up.  I dont need any karma, go and suport her. 3 How much reddit karma is considered a lot? Two days ago marked my 1 year anniversary of being on reddit. And in that time I have accumulated a bit more than 80,000 karma. So I was just wondering, how much karma is considered a lot? 4 cat attack my cat decided to jump out from underneath a chair and attack me he barely even scratched me but my cat is annoying his name is Eddy/Edmond he's always surprising us because most of the time he's super friendly fun times 5 The first YouTube video was made closer to 1989 than it was to today Look at the months. It has been 15 years and 5 months since the video was made, and back then the video was made 15 years and 4 months away from December of 1989 6 Why do Chinese people speak Chinese when it is very difficult? They should just learn and easier language like English or Spanish. They speak like 8 languages in China but I won't list them. Edit : actually they speak a lot more. 7 Ok who should I draw a portrait of I'm bored and need inspiration so yeah. Idk, ig I'll pick my favorite and draw that 8 Can you recommend me any music to listen to So I'm bored and can't fall asleep do you guys know any good songs, bands? 9 I tried saying can i get 1mil subs for no reason and got a lot of hate, boy its a joke  10 Are you guys allowed to switch off your cameras during online class? Because I'm not Maybe it's an American thing idk 11 To anyone here who is worried about college remember one thing If Kaitlyn Bennett can get through college you can too 12 I finally did it!! After a year with my Learner's Permit, I finally took the Driver's License test today and passed!! 13 Reddit costs $1.8 billion If we raise the money we can buy Reddit to make things crash quicker Please spread the news 14 God the princess and the frog is such an underrated Disney princess movie Probably my favorite Disney princess movies 15 If you want to feel wanted by someone Just rob a bankkkk, now the whole police will be looking for you. Works everytime. 16 why are you all so depressed Stop being depressed just be hapy 17 Draw with me part 2 []() 18 Why do people hate British uniforms? They all look so pretty, I don't understand why people think that they're ugly. 19 How do i join minecraft serves through my ps4? I recently bought minecraft so don't know Also is ps plus necessary? 20 I got an A for writing an essay on a book I didn't read. It was an in clas write so I only had 55 minutes to do it. 21 Yo let's chat, hmu if you are interested Tryna make some friiiieeeennndddsssssssssssssssssssssssssss Also I'm bored 22 Why does the thought of dieing make me hapy?I have a pllan. it's going to happen. If i wasn't waiting on something I would go right now. Why do these thoughts excite me? 23 i'm still alive, but I'm deleting my Reddit tomorrowthanks for all the kind messages and all, but this place is too fucking toxic to continue being here. if u wanna talk to me, I have discord: aquamarine#3232 24 Writing something positive about my day, day #261 I slept for a while the night before so I wasnt as tired today 25 Fun Fact: You are never not using your skeleton # # # # # # # # # # # # # # # # # # # # # # # 26 Its not even 5 yet and its dark outside WHYYYYYY This is getting ridiculous. The sun needs to stop slacking. 27 I am listening to songs..... SDCARD/Music/Hans Zimmer/Inception/Mombasa.wav With Surround Sound ON on SoundAlive 28 Is it just me... That has thoughts about cringy/embarrassing alternate scenarios that almost hapened in your life? 29 Name Your Mood And Ill Recommend A Song Will try to pick a song that you will enjoy based on your mood. Enjoy :) 30 Whats a #song you can recommend to everyone No matter what #genre they like, what song can you recommend to everyone? 31 How do I change my iOS 14 app logos to my own photos? Im being honestly I do not know how to change my app logos #heeelllllppppp 32 Spicy fried chicken &gt;&gt;&gt;&gt;&gt; the spice, the tender meat, the aroma everything about it is just so good 33 S.T.A.L.K.E.R., Metro, or Fallout? I just want to hear your opiniuns on the games. 34 Funniest comment gets free helpful award because I really need to laugh... E 35 Lalalalalalalalalalalalalalalalalalalalalalala BRBRBRBRBRBRBRBRBRBRBRBRBRBRBRBRBRB 36 I dont like emojis But i can make exceptions for this ones  37 WILLIAMS' GOT AN INVESTMENT!! I don't know about investments but GO WILLIAMS GO. 38 u/coolstarfish55 is my favorite redditor u/coolstarfish55 is my favorite redditor 39 Now I'll be the best user of teenagers And my competitors will be turned to stone 40 methodsjust a purely theoretic discussion about the easiest ways out. what would be your prefered way? with the least impact to your family and least destruction of body? 41 Sleeping pillsHow to kill myself most effectively using sleeping pills and alcohol (like vodka)? I don't want to end up being a vegetable. Only that holds me back, that's why I'm asking you my friends. 42 someone please, please tell me not toim not a good person and i want it to stop i want itt o stop so b ad but i'm scared of what would happen but i just want it over i don't know what to do. i hurt my friends and t hey stalked me but it was my fault in the first plae c and all they saw was lies lies lies lies lies . about Them i don't think g-d wants me here anymore. i think im supposed to be gone 43 Have 60 - 1mg Xanax. Thinking about taking them all. Don't know why I'm even postingIt's all too much. It hurts everyday. My sleep is only when I have peace. I just want that forever. 44 Day one of posting until something interesting happens Qwertyyiopasdfghjklzxcvbnm 45 Guess who can't sleep again How am I supposed to die in my sleep if I can't sleep? 46 I don't think I'll do itIt's awfully temping though. Just going through a rough patch 47 I see no reason to be here, no one actually loves, everyone is just faking caring about me.No one actually cares to listen and understand me. Im at fault of everything, nothing is reversable. Nothing makes me happy absolutely nothing. I have a plan to go outside the city and hang myself on a tree. I even picked a specific tree, its easy to climb has a place to tie a rope, and thick enough to hold my weight. 48 I have very few reasons left to be here. Here's some to not.1) My year and a half long relationship just ended 2) People.think im taking/lying about being suicidal. 3) Family is splitting up 4) Sexual assault 5) School sucks If anyone can talk?? At all??? Im so close. I want it to either go away or I'll make it go away. I'm in therapy. On meds (kinda) gone to my last resorts a few times (police and hospital) 49 I FINALLY TOLD MY CRUSH I LIKED HIM AND HE LIKES ME BACK!!! IM SUPER HAPPY :DDDDDD\""
      ]
     },
     "execution_count": 142,
     "metadata": {},
     "output_type": "execute_result"
    }
   ],
   "source": [
    "clean_data = re.sub(r'https?://[a-zA-Z0-9\\.\\/\\-_?=;&]*', '', clean_data)\n",
    "clean_data"
   ]
  },
  {
   "cell_type": "markdown",
   "metadata": {},
   "source": [
    "g. remove HTML tags"
   ]
  },
  {
   "cell_type": "code",
   "execution_count": 143,
   "metadata": {},
   "outputs": [
    {
     "data": {
      "text/plain": [
       "\" 0 0 my teachers seeing me submit my assignment at 3am again:  i wonder if my teachers are silently judging me :/ &amp;#x200B; filler filter flicker snicker bicker clicker 1 My uncle just got married. My uncle just got married to a beautiful wife and I would like to present him with something. I couldnt think of anything else but to tell you guys. Congratulations Uncle Jeremy! Im so happy for you! 2 This is sad. The story of this girls break up.  I dont need any karma, go and suport her. 3 How much reddit karma is considered a lot? Two days ago marked my 1 year anniversary of being on reddit. And in that time I have accumulated a bit more than 80,000 karma. So I was just wondering, how much karma is considered a lot? 4 cat attack my cat decided to jump out from underneath a chair and attack me he barely even scratched me but my cat is annoying his name is Eddy/Edmond he's always surprising us because most of the time he's super friendly fun times 5 The first YouTube video was made closer to 1989 than it was to today Look at the months. It has been 15 years and 5 months since the video was made, and back then the video was made 15 years and 4 months away from December of 1989 6 Why do Chinese people speak Chinese when it is very difficult? They should just learn and easier language like English or Spanish. They speak like 8 languages in China but I won't list them. Edit : actually they speak a lot more. 7 Ok who should I draw a portrait of I'm bored and need inspiration so yeah. Idk, ig I'll pick my favorite and draw that 8 Can you recommend me any music to listen to So I'm bored and can't fall asleep do you guys know any good songs, bands? 9 I tried saying can i get 1mil subs for no reason and got a lot of hate, boy its a joke  10 Are you guys allowed to switch off your cameras during online class? Because I'm not Maybe it's an American thing idk 11 To anyone here who is worried about college remember one thing If Kaitlyn Bennett can get through college you can too 12 I finally did it!! After a year with my Learner's Permit, I finally took the Driver's License test today and passed!! 13 Reddit costs $1.8 billion If we raise the money we can buy Reddit to make things crash quicker Please spread the news 14 God the princess and the frog is such an underrated Disney princess movie Probably my favorite Disney princess movies 15 If you want to feel wanted by someone Just rob a bankkkk, now the whole police will be looking for you. Works everytime. 16 why are you all so depressed Stop being depressed just be hapy 17 Draw with me part 2 []() 18 Why do people hate British uniforms? They all look so pretty, I don't understand why people think that they're ugly. 19 How do i join minecraft serves through my ps4? I recently bought minecraft so don't know Also is ps plus necessary? 20 I got an A for writing an essay on a book I didn't read. It was an in clas write so I only had 55 minutes to do it. 21 Yo let's chat, hmu if you are interested Tryna make some friiiieeeennndddsssssssssssssssssssssssssss Also I'm bored 22 Why does the thought of dieing make me hapy?I have a pllan. it's going to happen. If i wasn't waiting on something I would go right now. Why do these thoughts excite me? 23 i'm still alive, but I'm deleting my Reddit tomorrowthanks for all the kind messages and all, but this place is too fucking toxic to continue being here. if u wanna talk to me, I have discord: aquamarine#3232 24 Writing something positive about my day, day #261 I slept for a while the night before so I wasnt as tired today 25 Fun Fact: You are never not using your skeleton # # # # # # # # # # # # # # # # # # # # # # # 26 Its not even 5 yet and its dark outside WHYYYYYY This is getting ridiculous. The sun needs to stop slacking. 27 I am listening to songs..... SDCARD/Music/Hans Zimmer/Inception/Mombasa.wav With Surround Sound ON on SoundAlive 28 Is it just me... That has thoughts about cringy/embarrassing alternate scenarios that almost hapened in your life? 29 Name Your Mood And Ill Recommend A Song Will try to pick a song that you will enjoy based on your mood. Enjoy :) 30 Whats a #song you can recommend to everyone No matter what #genre they like, what song can you recommend to everyone? 31 How do I change my iOS 14 app logos to my own photos? Im being honestly I do not know how to change my app logos #heeelllllppppp 32 Spicy fried chicken &gt;&gt;&gt;&gt;&gt; the spice, the tender meat, the aroma everything about it is just so good 33 S.T.A.L.K.E.R., Metro, or Fallout? I just want to hear your opiniuns on the games. 34 Funniest comment gets free helpful award because I really need to laugh... E 35 Lalalalalalalalalalalalalalalalalalalalalalala BRBRBRBRBRBRBRBRBRBRBRBRBRBRBRBRBRB 36 I dont like emojis But i can make exceptions for this ones  37 WILLIAMS' GOT AN INVESTMENT!! I don't know about investments but GO WILLIAMS GO. 38 u/coolstarfish55 is my favorite redditor u/coolstarfish55 is my favorite redditor 39 Now I'll be the best user of teenagers And my competitors will be turned to stone 40 methodsjust a purely theoretic discussion about the easiest ways out. what would be your prefered way? with the least impact to your family and least destruction of body? 41 Sleeping pillsHow to kill myself most effectively using sleeping pills and alcohol (like vodka)? I don't want to end up being a vegetable. Only that holds me back, that's why I'm asking you my friends. 42 someone please, please tell me not toim not a good person and i want it to stop i want itt o stop so b ad but i'm scared of what would happen but i just want it over i don't know what to do. i hurt my friends and t hey stalked me but it was my fault in the first plae c and all they saw was lies lies lies lies lies . about Them i don't think g-d wants me here anymore. i think im supposed to be gone 43 Have 60 - 1mg Xanax. Thinking about taking them all. Don't know why I'm even postingIt's all too much. It hurts everyday. My sleep is only when I have peace. I just want that forever. 44 Day one of posting until something interesting happens Qwertyyiopasdfghjklzxcvbnm 45 Guess who can't sleep again How am I supposed to die in my sleep if I can't sleep? 46 I don't think I'll do itIt's awfully temping though. Just going through a rough patch 47 I see no reason to be here, no one actually loves, everyone is just faking caring about me.No one actually cares to listen and understand me. Im at fault of everything, nothing is reversable. Nothing makes me happy absolutely nothing. I have a plan to go outside the city and hang myself on a tree. I even picked a specific tree, its easy to climb has a place to tie a rope, and thick enough to hold my weight. 48 I have very few reasons left to be here. Here's some to not.1) My year and a half long relationship just ended 2) People.think im taking/lying about being suicidal. 3) Family is splitting up 4) Sexual assault 5) School sucks If anyone can talk?? At all??? Im so close. I want it to either go away or I'll make it go away. I'm in therapy. On meds (kinda) gone to my last resorts a few times (police and hospital) 49 I FINALLY TOLD MY CRUSH I LIKED HIM AND HE LIKES ME BACK!!! IM SUPER HAPPY :DDDDDD\""
      ]
     },
     "execution_count": 143,
     "metadata": {},
     "output_type": "execute_result"
    }
   ],
   "source": [
    "clean_data = re.sub(r'<[^>]+>', '', clean_data)\n",
    "clean_data"
   ]
  },
  {
   "cell_type": "markdown",
   "metadata": {},
   "source": [
    "2. unwanted digits"
   ]
  },
  {
   "cell_type": "code",
   "execution_count": 144,
   "metadata": {},
   "outputs": [],
   "source": [
    "unwanted_digit = ['0','1','2','3','4','5','6','7','8','9']\n",
    "\n",
    "for digit in unwanted_digit:\n",
    "    clean_data = clean_data.replace(digit, \"\")"
   ]
  },
  {
   "cell_type": "markdown",
   "metadata": {},
   "source": [
    "3. spacial caracters and Punctuations"
   ]
  },
  {
   "cell_type": "code",
   "execution_count": 145,
   "metadata": {},
   "outputs": [],
   "source": [
    "unwanted_punc = ['\"',\"'\",'=','@','&','%','.',',',':','\\\\','$','^','<','>','!','?','{','}',';','\\n','\\t','(',')','[',']','/','*','+','#','\\u200c','\\ufeff','-','_','|']\n",
    "\n",
    "for punc in unwanted_punc:\n",
    "    clean_data = clean_data.replace(punc, \"\")"
   ]
  },
  {
   "cell_type": "markdown",
   "metadata": {},
   "source": [
    "### c. Hashtag removes"
   ]
  },
  {
   "cell_type": "code",
   "execution_count": 146,
   "metadata": {},
   "outputs": [],
   "source": [
    "clean_data = clean_data.replace(\"#\", \"\")"
   ]
  },
  {
   "cell_type": "markdown",
   "metadata": {},
   "source": [
    "### d. Tokenization\n",
    "\n",
    "One of the most important steps in processing natural languages ​​is the tokenization step, in which we separate the sentence or corpus into its component or tokens words.\n",
    "\n",
    "- In this section, we used the **NLTK** library in Python to implement tokenization.\n",
    "- An elementary and very simple method to extract the words of a sentence is to use spaces and separate the words, although, of course, in languages ​​such as Japanese where there are no spaces, we use other methods such as the Maximum Matching algorithm."
   ]
  },
  {
   "cell_type": "code",
   "execution_count": 147,
   "metadata": {},
   "outputs": [
    {
     "name": "stdout",
     "output_type": "stream",
     "text": [
      "['my', 'teachers', 'seeing', 'me', 'submit', 'my', 'assignment', 'at', 'am', 'again', 'i', 'wonder', 'if', 'my', 'teachers', 'are', 'silently', 'judging', 'me', 'ampxB', 'filler', 'filter', 'flicker', 'snicker', 'bicker', 'clicker', 'My', 'uncle', 'just', 'got', 'married', 'My', 'uncle', 'just', 'got', 'married', 'to', 'a', 'beautiful', 'wife', 'and', 'I', 'would', 'like', 'to', 'present', 'him', 'with', 'something', 'I', 'couldnt', 'think', 'of', 'anything', 'else', 'but', 'to', 'tell', 'you', 'guys', 'Congratulations', 'Uncle', 'Jeremy', 'Im', 'so', 'happy', 'for', 'you', 'This', 'is', 'sad', 'The', 'story', 'of', 'this', 'girls', 'break', 'up', 'I', 'dont', 'need', 'any', 'karma', 'go', 'and', 'suport', 'her', 'How', 'much', 'reddit', 'karma', 'is', 'considered', 'a', 'lot', 'Two', 'days', 'ago', 'marked', 'my', 'year', 'anniversary', 'of', 'being', 'on', 'reddit', 'And', 'in', 'that', 'time', 'I', 'have', 'accumulated', 'a', 'bit', 'more', 'than', 'karma', 'So', 'I', 'was', 'just', 'wondering', 'how', 'much', 'karma', 'is', 'considered', 'a', 'lot', 'cat', 'attack', 'my', 'cat', 'decided', 'to', 'jump', 'out', 'from', 'underneath', 'a', 'chair', 'and', 'attack', 'me', 'he', 'barely', 'even', 'scratched', 'me', 'but', 'my', 'cat', 'is', 'annoying', 'his', 'name', 'is', 'EddyEdmond', 'hes', 'always', 'surprising', 'us', 'because', 'most', 'of', 'the', 'time', 'hes', 'super', 'friendly', 'fun', 'times', 'The', 'first', 'YouTube', 'video', 'was', 'made', 'closer', 'to', 'than', 'it', 'was', 'to', 'today', 'Look', 'at', 'the', 'months', 'It', 'has', 'been', 'years', 'and', 'months', 'since', 'the', 'video', 'was', 'made', 'and', 'back', 'then', 'the', 'video', 'was', 'made', 'years', 'and', 'months', 'away', 'from', 'December', 'of', 'Why', 'do', 'Chinese', 'people', 'speak', 'Chinese', 'when', 'it', 'is', 'very', 'difficult', 'They', 'should', 'just', 'learn', 'and', 'easier', 'language', 'like', 'English', 'or', 'Spanish', 'They', 'speak', 'like', 'languages', 'in', 'China', 'but', 'I', 'wont', 'list', 'them', 'Edit', 'actually', 'they', 'speak', 'a', 'lot', 'more', 'Ok', 'who', 'should', 'I', 'draw', 'a', 'portrait', 'of', 'Im', 'bored', 'and', 'need', 'inspiration', 'so', 'yeah', 'Idk', 'ig', 'Ill', 'pick', 'my', 'favorite', 'and', 'draw', 'that', 'Can', 'you', 'recommend', 'me', 'any', 'music', 'to', 'listen', 'to', 'So', 'Im', 'bored', 'and', 'cant', 'fall', 'asleep', 'do', 'you', 'guys', 'know', 'any', 'good', 'songs', 'bands', 'I', 'tried', 'saying', 'can', 'i', 'get', 'mil', 'subs', 'for', 'no', 'reason', 'and', 'got', 'a', 'lot', 'of', 'hate', 'boy', 'its', 'a', 'joke', 'Are', 'you', 'guys', 'allowed', 'to', 'switch', 'off', 'your', 'cameras', 'during', 'online', 'class', 'Because', 'Im', 'not', 'Maybe', 'its', 'an', 'American', 'thing', 'idk', 'To', 'anyone', 'here', 'who', 'is', 'worried', 'about', 'college', 'remember', 'one', 'thing', 'If', 'Kaitlyn', 'Bennett', 'can', 'get', 'through', 'college', 'you', 'can', 'too', 'I', 'finally', 'did', 'it', 'After', 'a', 'year', 'with', 'my', 'Learners', 'Permit', 'I', 'finally', 'took', 'the', 'Drivers', 'License', 'test', 'today', 'and', 'passed', 'Reddit', 'costs', 'billion', 'If', 'we', 'raise', 'the', 'money', 'we', 'can', 'buy', 'Reddit', 'to', 'make', 'things', 'crash', 'quicker', 'Please', 'spread', 'the', 'news', 'God', 'the', 'princess', 'and', 'the', 'frog', 'is', 'such', 'an', 'underrated', 'Disney', 'princess', 'movie', 'Probably', 'my', 'favorite', 'Disney', 'princess', 'movies', 'If', 'you', 'want', 'to', 'feel', 'wanted', 'by', 'someone', 'Just', 'rob', 'a', 'bankkkk', 'now', 'the', 'whole', 'police', 'will', 'be', 'looking', 'for', 'you', 'Works', 'everytime', 'why', 'are', 'you', 'all', 'so', 'depressed', 'Stop', 'being', 'depressed', 'just', 'be', 'hapy', 'Draw', 'with', 'me', 'part', 'Why', 'do', 'people', 'hate', 'British', 'uniforms', 'They', 'all', 'look', 'so', 'pretty', 'I', 'dont', 'understand', 'why', 'people', 'think', 'that', 'theyre', 'ugly', 'How', 'do', 'i', 'join', 'minecraft', 'serves', 'through', 'my', 'ps', 'I', 'recently', 'bought', 'minecraft', 'so', 'dont', 'know', 'Also', 'is', 'ps', 'plus', 'necessary', 'I', 'got', 'an', 'A', 'for', 'writing', 'an', 'essay', 'on', 'a', 'book', 'I', 'didnt', 'read', 'It', 'was', 'an', 'in', 'clas', 'write', 'so', 'I', 'only', 'had', 'minutes', 'to', 'do', 'it', 'Yo', 'lets', 'chat', 'hmu', 'if', 'you', 'are', 'interested', 'Tryna', 'make', 'some', 'friiiieeeennndddsssssssssssssssssssssssssss', 'Also', 'Im', 'bored', 'Why', 'does', 'the', 'thought', 'of', 'dieing', 'make', 'me', 'hapyI', 'have', 'a', 'pllan', 'its', 'going', 'to', 'happen', 'If', 'i', 'wasnt', 'waiting', 'on', 'something', 'I', 'would', 'go', 'right', 'now', 'Why', 'do', 'these', 'thoughts', 'excite', 'me', 'im', 'still', 'alive', 'but', 'Im', 'deleting', 'my', 'Reddit', 'tomorrowthanks', 'for', 'all', 'the', 'kind', 'messages', 'and', 'all', 'but', 'this', 'place', 'is', 'too', 'fucking', 'toxic', 'to', 'continue', 'being', 'here', 'if', 'u', 'wan', 'na', 'talk', 'to', 'me', 'I', 'have', 'discord', 'aquamarine', 'Writing', 'something', 'positive', 'about', 'my', 'day', 'day', 'I', 'slept', 'for', 'a', 'while', 'the', 'night', 'before', 'so', 'I', 'wasnt', 'as', 'tired', 'today', 'Fun', 'Fact', 'You', 'are', 'never', 'not', 'using', 'your', 'skeleton', 'Its', 'not', 'even', 'yet', 'and', 'its', 'dark', 'outside', 'WHYYYYYY', 'This', 'is', 'getting', 'ridiculous', 'The', 'sun', 'needs', 'to', 'stop', 'slacking', 'I', 'am', 'listening', 'to', 'songs', 'SDCARDMusicHans', 'ZimmerInceptionMombasawav', 'With', 'Surround', 'Sound', 'ON', 'on', 'SoundAlive', 'Is', 'it', 'just', 'me', 'That', 'has', 'thoughts', 'about', 'cringyembarrassing', 'alternate', 'scenarios', 'that', 'almost', 'hapened', 'in', 'your', 'life', 'Name', 'Your', 'Mood', 'And', 'Ill', 'Recommend', 'A', 'Song', 'Will', 'try', 'to', 'pick', 'a', 'song', 'that', 'you', 'will', 'enjoy', 'based', 'on', 'your', 'mood', 'Enjoy', 'Whats', 'a', 'song', 'you', 'can', 'recommend', 'to', 'everyone', 'No', 'matter', 'what', 'genre', 'they', 'like', 'what', 'song', 'can', 'you', 'recommend', 'to', 'everyone', 'How', 'do', 'I', 'change', 'my', 'iOS', 'app', 'logos', 'to', 'my', 'own', 'photos', 'Im', 'being', 'honestly', 'I', 'do', 'not', 'know', 'how', 'to', 'change', 'my', 'app', 'logos', 'heeelllllppppp', 'Spicy', 'fried', 'chicken', 'gtgtgtgtgt', 'the', 'spice', 'the', 'tender', 'meat', 'the', 'aroma', 'everything', 'about', 'it', 'is', 'just', 'so', 'good', 'STALKER', 'Metro', 'or', 'Fallout', 'I', 'just', 'want', 'to', 'hear', 'your', 'opiniuns', 'on', 'the', 'games', 'Funniest', 'comment', 'gets', 'free', 'helpful', 'award', 'because', 'I', 'really', 'need', 'to', 'laugh', 'E', 'Lalalalalalalalalalalalalalalalalalalalalalala', 'BRBRBRBRBRBRBRBRBRBRBRBRBRBRBRBRBRB', 'I', 'dont', 'like', 'emojis', 'But', 'i', 'can', 'make', 'exceptions', 'for', 'this', 'ones', 'WILLIAMS', 'GOT', 'AN', 'INVESTMENT', 'I', 'dont', 'know', 'about', 'investments', 'but', 'GO', 'WILLIAMS', 'GO', 'ucoolstarfish', 'is', 'my', 'favorite', 'redditor', 'ucoolstarfish', 'is', 'my', 'favorite', 'redditor', 'Now', 'Ill', 'be', 'the', 'best', 'user', 'of', 'teenagers', 'And', 'my', 'competitors', 'will', 'be', 'turned', 'to', 'stone', 'methodsjust', 'a', 'purely', 'theoretic', 'discussion', 'about', 'the', 'easiest', 'ways', 'out', 'what', 'would', 'be', 'your', 'prefered', 'way', 'with', 'the', 'least', 'impact', 'to', 'your', 'family', 'and', 'least', 'destruction', 'of', 'body', 'Sleeping', 'pillsHow', 'to', 'kill', 'myself', 'most', 'effectively', 'using', 'sleeping', 'pills', 'and', 'alcohol', 'like', 'vodka', 'I', 'dont', 'want', 'to', 'end', 'up', 'being', 'a', 'vegetable', 'Only', 'that', 'holds', 'me', 'back', 'thats', 'why', 'Im', 'asking', 'you', 'my', 'friends', 'someone', 'please', 'please', 'tell', 'me', 'not', 'toim', 'not', 'a', 'good', 'person', 'and', 'i', 'want', 'it', 'to', 'stop', 'i', 'want', 'itt', 'o', 'stop', 'so', 'b', 'ad', 'but', 'im', 'scared', 'of', 'what', 'would', 'happen', 'but', 'i', 'just', 'want', 'it', 'over', 'i', 'dont', 'know', 'what', 'to', 'do', 'i', 'hurt', 'my', 'friends', 'and', 't', 'hey', 'stalked', 'me', 'but', 'it', 'was', 'my', 'fault', 'in', 'the', 'first', 'plae', 'c', 'and', 'all', 'they', 'saw', 'was', 'lies', 'lies', 'lies', 'lies', 'lies', 'about', 'Them', 'i', 'dont', 'think', 'gd', 'wants', 'me', 'here', 'anymore', 'i', 'think', 'im', 'supposed', 'to', 'be', 'gone', 'Have', 'mg', 'Xanax', 'Thinking', 'about', 'taking', 'them', 'all', 'Dont', 'know', 'why', 'Im', 'even', 'postingIts', 'all', 'too', 'much', 'It', 'hurts', 'everyday', 'My', 'sleep', 'is', 'only', 'when', 'I', 'have', 'peace', 'I', 'just', 'want', 'that', 'forever', 'Day', 'one', 'of', 'posting', 'until', 'something', 'interesting', 'happens', 'Qwertyyiopasdfghjklzxcvbnm', 'Guess', 'who', 'cant', 'sleep', 'again', 'How', 'am', 'I', 'supposed', 'to', 'die', 'in', 'my', 'sleep', 'if', 'I', 'cant', 'sleep', 'I', 'dont', 'think', 'Ill', 'do', 'itIts', 'awfully', 'temping', 'though', 'Just', 'going', 'through', 'a', 'rough', 'patch', 'I', 'see', 'no', 'reason', 'to', 'be', 'here', 'no', 'one', 'actually', 'loves', 'everyone', 'is', 'just', 'faking', 'caring', 'about', 'meNo', 'one', 'actually', 'cares', 'to', 'listen', 'and', 'understand', 'me', 'Im', 'at', 'fault', 'of', 'everything', 'nothing', 'is', 'reversable', 'Nothing', 'makes', 'me', 'happy', 'absolutely', 'nothing', 'I', 'have', 'a', 'plan', 'to', 'go', 'outside', 'the', 'city', 'and', 'hang', 'myself', 'on', 'a', 'tree', 'I', 'even', 'picked', 'a', 'specific', 'tree', 'its', 'easy', 'to', 'climb', 'has', 'a', 'place', 'to', 'tie', 'a', 'rope', 'and', 'thick', 'enough', 'to', 'hold', 'my', 'weight', 'I', 'have', 'very', 'few', 'reasons', 'left', 'to', 'be', 'here', 'Heres', 'some', 'to', 'not', 'My', 'year', 'and', 'a', 'half', 'long', 'relationship', 'just', 'ended', 'Peoplethink', 'im', 'takinglying', 'about', 'being', 'suicidal', 'Family', 'is', 'splitting', 'up', 'Sexual', 'assault', 'School', 'sucks', 'If', 'anyone', 'can', 'talk', 'At', 'all', 'Im', 'so', 'close', 'I', 'want', 'it', 'to', 'either', 'go', 'away', 'or', 'Ill', 'make', 'it', 'go', 'away', 'Im', 'in', 'therapy', 'On', 'meds', 'kinda', 'gone', 'to', 'my', 'last', 'resorts', 'a', 'few', 'times', 'police', 'and', 'hospital', 'I', 'FINALLY', 'TOLD', 'MY', 'CRUSH', 'I', 'LIKED', 'HIM', 'AND', 'HE', 'LIKES', 'ME', 'BACK', 'IM', 'SUPER', 'HAPPY', 'DDDDDD'] 1267\n"
     ]
    }
   ],
   "source": [
    "from nltk.tokenize import word_tokenize\n",
    "\n",
    "tokens = word_tokenize(clean_data)\n",
    "print(tokens, len(tokens))"
   ]
  },
  {
   "cell_type": "markdown",
   "metadata": {},
   "source": [
    "### e. Stop words\n",
    "\n",
    "Stop words are available in abundance in any human language. By removing these words, we remove the low-level information from our text in order to give more focus to the important information.\n",
    "- We have the stopwords of that language in any language, and we use the **wordnet corpus** in the ntlk library to view its list in English."
   ]
  },
  {
   "cell_type": "code",
   "execution_count": 170,
   "metadata": {},
   "outputs": [
    {
     "name": "stderr",
     "output_type": "stream",
     "text": [
      "[nltk_data] Downloading package stopwords to\n",
      "[nltk_data]     C:\\Users\\AsusIran\\AppData\\Roaming\\nltk_data...\n",
      "[nltk_data]   Package stopwords is already up-to-date!\n"
     ]
    },
    {
     "data": {
      "text/plain": [
       "True"
      ]
     },
     "execution_count": 170,
     "metadata": {},
     "output_type": "execute_result"
    }
   ],
   "source": [
    "import nltk\n",
    "\n",
    "nltk.download(\"stopwords\")"
   ]
  },
  {
   "cell_type": "markdown",
   "metadata": {},
   "source": [
    "For example, let's look at 20 of the English stop words that exist in wordnet."
   ]
  },
  {
   "cell_type": "code",
   "execution_count": 151,
   "metadata": {},
   "outputs": [
    {
     "data": {
      "text/plain": [
       "['i',\n",
       " 'me',\n",
       " 'my',\n",
       " 'myself',\n",
       " 'we',\n",
       " 'our',\n",
       " 'ours',\n",
       " 'ourselves',\n",
       " 'you',\n",
       " \"you're\",\n",
       " \"you've\",\n",
       " \"you'll\",\n",
       " \"you'd\",\n",
       " 'your',\n",
       " 'yours',\n",
       " 'yourself',\n",
       " 'yourselves',\n",
       " 'he',\n",
       " 'him',\n",
       " 'his']"
      ]
     },
     "execution_count": 151,
     "metadata": {},
     "output_type": "execute_result"
    }
   ],
   "source": [
    "from nltk.corpus import stopwords\n",
    "\n",
    "stopwords.words(\"english\")[:20]"
   ]
  },
  {
   "cell_type": "markdown",
   "metadata": {},
   "source": [
    "First, we extract the tokens and then **if any of these tokens are present in the list of stopwords, we remove them from the set of tokens**."
   ]
  },
  {
   "cell_type": "code",
   "execution_count": 171,
   "metadata": {},
   "outputs": [
    {
     "name": "stdout",
     "output_type": "stream",
     "text": [
      "['teachers', 'seeing', 'submit', 'assignment', 'wonder', 'teachers', 'silently', 'judging', 'ampxB', 'filler', 'filter', 'flicker', 'snicker', 'bicker', 'clicker', 'My', 'uncle', 'got', 'married', 'My', 'uncle', 'got', 'married', 'beautiful', 'wife', 'I', 'would', 'like', 'present', 'something', 'I', 'couldnt', 'think', 'anything', 'else', 'tell', 'guys', 'Congratulations', 'Uncle', 'Jeremy', 'Im', 'happy', 'This', 'sad', 'The', 'story', 'girls', 'break', 'I', 'dont', 'need', 'karma', 'go', 'suport', 'How', 'much', 'reddit', 'karma', 'considered', 'lot', 'Two', 'days', 'ago', 'marked', 'year', 'anniversary', 'reddit', 'And', 'time', 'I', 'accumulated', 'bit', 'karma', 'So', 'I', 'wondering', 'much', 'karma', 'considered', 'lot', 'cat', 'attack', 'cat', 'decided', 'jump', 'underneath', 'chair', 'attack', 'barely', 'even', 'scratched', 'cat', 'annoying', 'name', 'EddyEdmond', 'hes', 'always', 'surprising', 'us', 'time', 'hes', 'super', 'friendly', 'fun', 'times', 'The', 'first', 'YouTube', 'video', 'made', 'closer', 'today', 'Look', 'months', 'It', 'years', 'months', 'since', 'video', 'made', 'back', 'video', 'made', 'years', 'months', 'away', 'December', 'Why', 'Chinese', 'people', 'speak', 'Chinese', 'difficult', 'They', 'learn', 'easier', 'language', 'like', 'English', 'Spanish', 'They', 'speak', 'like', 'languages', 'China', 'I', 'wont', 'list', 'Edit', 'actually', 'speak', 'lot', 'Ok', 'I', 'draw', 'portrait', 'Im', 'bored', 'need', 'inspiration', 'yeah', 'Idk', 'ig', 'Ill', 'pick', 'favorite', 'draw', 'Can', 'recommend', 'music', 'listen', 'So', 'Im', 'bored', 'cant', 'fall', 'asleep', 'guys', 'know', 'good', 'songs', 'bands', 'I', 'tried', 'saying', 'get', 'mil', 'subs', 'reason', 'got', 'lot', 'hate', 'boy', 'joke', 'Are', 'guys', 'allowed', 'switch', 'cameras', 'online', 'class', 'Because', 'Im', 'Maybe', 'American', 'thing', 'idk', 'To', 'anyone', 'worried', 'college', 'remember', 'one', 'thing', 'If', 'Kaitlyn', 'Bennett', 'get', 'college', 'I', 'finally', 'After', 'year', 'Learners', 'Permit', 'I', 'finally', 'took', 'Drivers', 'License', 'test', 'today', 'passed', 'Reddit', 'costs', 'billion', 'If', 'raise', 'money', 'buy', 'Reddit', 'make', 'things', 'crash', 'quicker', 'Please', 'spread', 'news', 'God', 'princess', 'frog', 'underrated', 'Disney', 'princess', 'movie', 'Probably', 'favorite', 'Disney', 'princess', 'movies', 'If', 'want', 'feel', 'wanted', 'someone', 'Just', 'rob', 'bankkkk', 'whole', 'police', 'looking', 'Works', 'everytime', 'depressed', 'Stop', 'depressed', 'hapy', 'Draw', 'part', 'Why', 'people', 'hate', 'British', 'uniforms', 'They', 'look', 'pretty', 'I', 'dont', 'understand', 'people', 'think', 'theyre', 'ugly', 'How', 'join', 'minecraft', 'serves', 'ps', 'I', 'recently', 'bought', 'minecraft', 'dont', 'know', 'Also', 'ps', 'plus', 'necessary', 'I', 'got', 'A', 'writing', 'essay', 'book', 'I', 'didnt', 'read', 'It', 'clas', 'write', 'I', 'minutes', 'Yo', 'lets', 'chat', 'hmu', 'interested', 'Tryna', 'make', 'friiiieeeennndddsssssssssssssssssssssssssss', 'Also', 'Im', 'bored', 'Why', 'thought', 'dieing', 'make', 'hapyI', 'pllan', 'going', 'happen', 'If', 'wasnt', 'waiting', 'something', 'I', 'would', 'go', 'right', 'Why', 'thoughts', 'excite', 'im', 'still', 'alive', 'Im', 'deleting', 'Reddit', 'tomorrowthanks', 'kind', 'messages', 'place', 'fucking', 'toxic', 'continue', 'u', 'wan', 'na', 'talk', 'I', 'discord', 'aquamarine', 'Writing', 'something', 'positive', 'day', 'day', 'I', 'slept', 'night', 'I', 'wasnt', 'tired', 'today', 'Fun', 'Fact', 'You', 'never', 'using', 'skeleton', 'Its', 'even', 'yet', 'dark', 'outside', 'WHYYYYYY', 'This', 'getting', 'ridiculous', 'The', 'sun', 'needs', 'stop', 'slacking', 'I', 'listening', 'songs', 'SDCARDMusicHans', 'ZimmerInceptionMombasawav', 'With', 'Surround', 'Sound', 'ON', 'SoundAlive', 'Is', 'That', 'thoughts', 'cringyembarrassing', 'alternate', 'scenarios', 'almost', 'hapened', 'life', 'Name', 'Your', 'Mood', 'And', 'Ill', 'Recommend', 'A', 'Song', 'Will', 'try', 'pick', 'song', 'enjoy', 'based', 'mood', 'Enjoy', 'Whats', 'song', 'recommend', 'everyone', 'No', 'matter', 'genre', 'like', 'song', 'recommend', 'everyone', 'How', 'I', 'change', 'iOS', 'app', 'logos', 'photos', 'Im', 'honestly', 'I', 'know', 'change', 'app', 'logos', 'heeelllllppppp', 'Spicy', 'fried', 'chicken', 'gtgtgtgtgt', 'spice', 'tender', 'meat', 'aroma', 'everything', 'good', 'STALKER', 'Metro', 'Fallout', 'I', 'want', 'hear', 'opiniuns', 'games', 'Funniest', 'comment', 'gets', 'free', 'helpful', 'award', 'I', 'really', 'need', 'laugh', 'E', 'Lalalalalalalalalalalalalalalalalalalalalalala', 'BRBRBRBRBRBRBRBRBRBRBRBRBRBRBRBRBRB', 'I', 'dont', 'like', 'emojis', 'But', 'make', 'exceptions', 'ones', 'WILLIAMS', 'GOT', 'AN', 'INVESTMENT', 'I', 'dont', 'know', 'investments', 'GO', 'WILLIAMS', 'GO', 'ucoolstarfish', 'favorite', 'redditor', 'ucoolstarfish', 'favorite', 'redditor', 'Now', 'Ill', 'best', 'user', 'teenagers', 'And', 'competitors', 'turned', 'stone', 'methodsjust', 'purely', 'theoretic', 'discussion', 'easiest', 'ways', 'would', 'prefered', 'way', 'least', 'impact', 'family', 'least', 'destruction', 'body', 'Sleeping', 'pillsHow', 'kill', 'effectively', 'using', 'sleeping', 'pills', 'alcohol', 'like', 'vodka', 'I', 'dont', 'want', 'end', 'vegetable', 'Only', 'holds', 'back', 'thats', 'Im', 'asking', 'friends', 'someone', 'please', 'please', 'tell', 'toim', 'good', 'person', 'want', 'stop', 'want', 'itt', 'stop', 'b', 'ad', 'im', 'scared', 'would', 'happen', 'want', 'dont', 'know', 'hurt', 'friends', 'hey', 'stalked', 'fault', 'first', 'plae', 'c', 'saw', 'lies', 'lies', 'lies', 'lies', 'lies', 'Them', 'dont', 'think', 'gd', 'wants', 'anymore', 'think', 'im', 'supposed', 'gone', 'Have', 'mg', 'Xanax', 'Thinking', 'taking', 'Dont', 'know', 'Im', 'even', 'postingIts', 'much', 'It', 'hurts', 'everyday', 'My', 'sleep', 'I', 'peace', 'I', 'want', 'forever', 'Day', 'one', 'posting', 'something', 'interesting', 'happens', 'Qwertyyiopasdfghjklzxcvbnm', 'Guess', 'cant', 'sleep', 'How', 'I', 'supposed', 'die', 'sleep', 'I', 'cant', 'sleep', 'I', 'dont', 'think', 'Ill', 'itIts', 'awfully', 'temping', 'though', 'Just', 'going', 'rough', 'patch', 'I', 'see', 'reason', 'one', 'actually', 'loves', 'everyone', 'faking', 'caring', 'meNo', 'one', 'actually', 'cares', 'listen', 'understand', 'Im', 'fault', 'everything', 'nothing', 'reversable', 'Nothing', 'makes', 'happy', 'absolutely', 'nothing', 'I', 'plan', 'go', 'outside', 'city', 'hang', 'tree', 'I', 'even', 'picked', 'specific', 'tree', 'easy', 'climb', 'place', 'tie', 'rope', 'thick', 'enough', 'hold', 'weight', 'I', 'reasons', 'left', 'Heres', 'My', 'year', 'half', 'long', 'relationship', 'ended', 'Peoplethink', 'im', 'takinglying', 'suicidal', 'Family', 'splitting', 'Sexual', 'assault', 'School', 'sucks', 'If', 'anyone', 'talk', 'At', 'Im', 'close', 'I', 'want', 'either', 'go', 'away', 'Ill', 'make', 'go', 'away', 'Im', 'therapy', 'On', 'meds', 'kinda', 'gone', 'last', 'resorts', 'times', 'police', 'hospital', 'I', 'FINALLY', 'TOLD', 'MY', 'CRUSH', 'I', 'LIKED', 'HIM', 'AND', 'HE', 'LIKES', 'ME', 'BACK', 'IM', 'SUPER', 'HAPPY', 'DDDDDD'] 773\n"
     ]
    }
   ],
   "source": [
    "from nltk.tokenize import word_tokenize\n",
    "from nltk.corpus import stopwords\n",
    "\n",
    "# step1: tokenization\n",
    "tokens = word_tokenize(clean_data)\n",
    "\n",
    "# step2: remove stopwords\n",
    "clean_stop_words_tokens = []\n",
    "for token in tokens:\n",
    "    if token not in stopwords.words(\"english\"): \n",
    "        clean_stop_words_tokens.append(token)\n",
    "print(clean_stop_words_tokens, len(clean_stop_words_tokens))"
   ]
  },
  {
   "cell_type": "markdown",
   "metadata": {},
   "source": [
    "### f. Remove URLs"
   ]
  },
  {
   "cell_type": "markdown",
   "metadata": {},
   "source": [
    "دو مرحله پيش رو يعني حذف آدرس هاي اينترنتي و حذف تگ هاي اچ تي ام ال را پيش از اين انجام داديم با استفاده از عبارات با قاعاده در پايتون"
   ]
  },
  {
   "cell_type": "code",
   "execution_count": null,
   "metadata": {},
   "outputs": [],
   "source": [
    "clean_data = re.sub(r'^https?:\\/\\/.*[\\r\\n]*', ' ', clean_data)"
   ]
  },
  {
   "cell_type": "markdown",
   "metadata": {},
   "source": [
    "### g. Remove HTML tags"
   ]
  },
  {
   "cell_type": "code",
   "execution_count": null,
   "metadata": {},
   "outputs": [],
   "source": [
    "clean_data = re.sub(r'<[^>]+>', ' ', clean_data)"
   ]
  },
  {
   "cell_type": "markdown",
   "metadata": {},
   "source": [
    "### h. Repeated characters reduction, for example: Hellllo → Hello"
   ]
  },
  {
   "cell_type": "markdown",
   "metadata": {},
   "source": [
    "Sometimes in social networks, some of the main characters of a word are repeated several times to emphasize more. For example, the word frrrrrieeeeeeennnddss, we must return these words to their original form and remove the repeated character.\n",
    "\n",
    "- We wrote a class to remove repeated parameters with name **RepeatReplacer**.\n",
    "- For this operation, we use the **wordnet corpus**, which is a dictionary of English words."
   ]
  },
  {
   "cell_type": "code",
   "execution_count": 172,
   "metadata": {},
   "outputs": [
    {
     "name": "stderr",
     "output_type": "stream",
     "text": [
      "[nltk_data] Downloading package wordnet to\n",
      "[nltk_data]     C:\\Users\\AsusIran\\AppData\\Roaming\\nltk_data...\n",
      "[nltk_data]   Package wordnet is already up-to-date!\n"
     ]
    },
    {
     "data": {
      "text/plain": [
       "True"
      ]
     },
     "execution_count": 172,
     "metadata": {},
     "output_type": "execute_result"
    }
   ],
   "source": [
    "import nltk\n",
    "\n",
    "nltk.download(\"wordnet\")"
   ]
  },
  {
   "cell_type": "markdown",
   "metadata": {},
   "source": [
    "RepeatReplacer Class for example the word of **loooove** \n",
    "```python\n",
    "step1: (loo)(o)o(ve)    => o: remove\n",
    "step2: (lo)(o)o(ve)     => o: remove\n",
    "step3: (l)(o)o(ve)      => o: remove\n",
    "step3: love             => are on wordnet\n",
    "```"
   ]
  },
  {
   "cell_type": "code",
   "execution_count": 179,
   "metadata": {},
   "outputs": [],
   "source": [
    "import re\n",
    "from nltk.corpus import wordnet\n",
    "\n",
    "\n",
    "class RepeatReplacer():\n",
    "    def __init__(self):\n",
    "        # The beginning and the end char of word can be anything, but there must be a repeated character in the middle\n",
    "        self.repeat_regexp = re.compile(r'(\\w*)(\\w)\\2(\\w*)') \n",
    "        self.repl = r'\\1\\2\\3' # 1: start chars + a char, 2: middle char, 3: end chars\n",
    "\n",
    "    def replace(self, word):\n",
    "        if(wordnet.synsets(word)): \n",
    "            return word # if the word was in wordnet returns that word.\n",
    "            \n",
    "        repl_word = self.repeat_regexp.sub(self.repl, word) # Delete a repeated character\n",
    "        if(repl_word != word): \n",
    "            return self.replace(repl_word) # Recursive function\n",
    "        else: \n",
    "            return repl_word # The word is not in word net"
   ]
  },
  {
   "cell_type": "code",
   "execution_count": 180,
   "metadata": {},
   "outputs": [
    {
     "data": {
      "text/plain": [
       "'Hello'"
      ]
     },
     "execution_count": 180,
     "metadata": {},
     "output_type": "execute_result"
    }
   ],
   "source": [
    "replacer = RepeatReplacer()\n",
    "\n",
    "test_token = \"Hellllo\"\n",
    "replacer.replace(word=test_token)"
   ]
  },
  {
   "cell_type": "code",
   "execution_count": 181,
   "metadata": {},
   "outputs": [
    {
     "name": "stdout",
     "output_type": "stream",
     "text": [
      "ampxB => clean:  None\n",
      "clicker => clean:  None\n",
      "My => clean:  None\n",
      "My => clean:  None\n",
      "would => clean:  None\n",
      "something => clean:  None\n",
      "couldnt => clean:  None\n",
      "anything => clean:  None\n",
      "else => clean:  None\n",
      "Jeremy => clean:  None\n",
      "Im => clean:  None\n",
      "This => clean:  None\n",
      "The => clean:  None\n",
      "dont => clean:  None\n",
      "suport => clean:  None\n",
      "How => clean:  None\n",
      "reddit => clean:  None\n",
      "reddit => clean:  None\n",
      "And => clean:  None\n",
      "EddyEdmond => clean:  None\n",
      "The => clean:  None\n",
      "YouTube => clean:  None\n",
      "since => clean:  None\n",
      "They => clean:  None\n",
      "They => clean:  None\n",
      "Im => clean:  None\n",
      "Idk => clean:  None\n",
      "Im => clean:  None\n",
      "Because => clean:  None\n",
      "Im => clean:  None\n",
      "idk => clean:  None\n",
      "To => clean:  None\n",
      "anyone => clean:  None\n",
      "If => clean:  None\n",
      "Kaitlyn => clean:  None\n",
      "Reddit => clean:  None\n",
      "If => clean:  None\n",
      "Reddit => clean:  None\n",
      "If => clean:  None\n",
      "bankkkk => clean:  bank\n",
      "everytime => clean:  None\n",
      "hapy => clean:  None\n",
      "They => clean:  None\n",
      "dont => clean:  None\n",
      "theyre => clean:  None\n",
      "How => clean:  None\n",
      "minecraft => clean:  None\n",
      "minecraft => clean:  None\n",
      "dont => clean:  None\n",
      "didnt => clean:  None\n",
      "clas => clean:  None\n",
      "Yo => clean:  None\n",
      "hmu => clean:  None\n",
      "Tryna => clean:  None\n",
      "friiiieeeennndddsssssssssssssssssssssssssss => clean:  friends\n",
      "Im => clean:  None\n",
      "hapyI => clean:  None\n",
      "pllan => clean:  plan\n",
      "If => clean:  None\n",
      "wasnt => clean:  None\n",
      "something => clean:  None\n",
      "would => clean:  None\n",
      "im => clean:  None\n",
      "Im => clean:  None\n",
      "Reddit => clean:  None\n",
      "tomorrowthanks => clean:  None\n",
      "something => clean:  None\n",
      "wasnt => clean:  None\n",
      "You => clean:  None\n",
      "WHYYYYYY => clean:  WHY\n",
      "This => clean:  None\n",
      "The => clean:  None\n",
      "SDCARDMusicHans => clean:  None\n",
      "ZimmerInceptionMombasawav => clean:  None\n",
      "With => clean:  None\n",
      "SoundAlive => clean:  None\n",
      "That => clean:  None\n",
      "cringyembarrassing => clean:  None\n",
      "hapened => clean:  None\n",
      "Your => clean:  None\n",
      "And => clean:  None\n",
      "Whats => clean:  None\n",
      "everyone => clean:  None\n",
      "everyone => clean:  None\n",
      "How => clean:  None\n",
      "app => clean:  None\n",
      "Im => clean:  None\n",
      "app => clean:  None\n",
      "heeelllllppppp => clean:  help\n",
      "gtgtgtgtgt => clean:  None\n",
      "everything => clean:  None\n",
      "opiniuns => clean:  None\n",
      "Lalalalalalalalalalalalalalalalalalalalalalala => clean:  None\n",
      "BRBRBRBRBRBRBRBRBRBRBRBRBRBRBRBRBRB => clean:  None\n",
      "dont => clean:  None\n",
      "emojis => clean:  None\n",
      "dont => clean:  None\n",
      "ucoolstarfish => clean:  None\n",
      "redditor => clean:  None\n",
      "ucoolstarfish => clean:  None\n",
      "redditor => clean:  None\n",
      "And => clean:  None\n",
      "methodsjust => clean:  None\n",
      "would => clean:  None\n",
      "pillsHow => clean:  None\n",
      "dont => clean:  None\n",
      "thats => clean:  None\n",
      "Im => clean:  None\n",
      "toim => clean:  None\n",
      "itt => clean:  it\n",
      "im => clean:  None\n",
      "would => clean:  None\n",
      "dont => clean:  None\n",
      "hey => clean:  None\n",
      "plae => clean:  None\n",
      "Them => clean:  None\n",
      "dont => clean:  None\n",
      "im => clean:  None\n",
      "Dont => clean:  None\n",
      "Im => clean:  None\n",
      "postingIts => clean:  None\n",
      "My => clean:  None\n",
      "something => clean:  None\n",
      "Qwertyyiopasdfghjklzxcvbnm => clean:  None\n",
      "How => clean:  None\n",
      "dont => clean:  None\n",
      "itIts => clean:  None\n",
      "temping => clean:  None\n",
      "everyone => clean:  None\n",
      "meNo => clean:  None\n",
      "Im => clean:  None\n",
      "everything => clean:  None\n",
      "reversable => clean:  None\n",
      "My => clean:  None\n",
      "Peoplethink => clean:  None\n",
      "im => clean:  None\n",
      "takinglying => clean:  None\n",
      "If => clean:  None\n",
      "anyone => clean:  None\n",
      "Im => clean:  None\n",
      "Im => clean:  None\n",
      "MY => clean:  None\n",
      "HIM => clean:  None\n",
      "AND => clean:  None\n",
      "IM => clean:  None\n",
      "DDDDDD => clean:  DD\n",
      "['teachers', 'seeing', 'submit', 'assignment', 'wonder', 'teachers', 'silently', 'judging', None, 'filler', 'filter', 'flicker', 'snicker', 'bicker', None, None, 'uncle', 'got', 'married', None, 'uncle', 'got', 'married', 'beautiful', 'wife', 'I', None, 'like', 'present', None, 'I', None, 'think', None, None, 'tell', 'guys', 'Congratulations', 'Uncle', None, None, 'happy', None, 'sad', None, 'story', 'girls', 'break', 'I', None, 'need', 'karma', 'go', None, None, 'much', None, 'karma', 'considered', 'lot', 'Two', 'days', 'ago', 'marked', 'year', 'anniversary', None, None, 'time', 'I', 'accumulated', 'bit', 'karma', 'So', 'I', 'wondering', 'much', 'karma', 'considered', 'lot', 'cat', 'attack', 'cat', 'decided', 'jump', 'underneath', 'chair', 'attack', 'barely', 'even', 'scratched', 'cat', 'annoying', 'name', None, 'hes', 'always', 'surprising', 'us', 'time', 'hes', 'super', 'friendly', 'fun', 'times', None, 'first', None, 'video', 'made', 'closer', 'today', 'Look', 'months', 'It', 'years', 'months', None, 'video', 'made', 'back', 'video', 'made', 'years', 'months', 'away', 'December', 'Why', 'Chinese', 'people', 'speak', 'Chinese', 'difficult', None, 'learn', 'easier', 'language', 'like', 'English', 'Spanish', None, 'speak', 'like', 'languages', 'China', 'I', 'wont', 'list', 'Edit', 'actually', 'speak', 'lot', 'Ok', 'I', 'draw', 'portrait', None, 'bored', 'need', 'inspiration', 'yeah', None, 'ig', 'Ill', 'pick', 'favorite', 'draw', 'Can', 'recommend', 'music', 'listen', 'So', None, 'bored', 'cant', 'fall', 'asleep', 'guys', 'know', 'good', 'songs', 'bands', 'I', 'tried', 'saying', 'get', 'mil', 'subs', 'reason', 'got', 'lot', 'hate', 'boy', 'joke', 'Are', 'guys', 'allowed', 'switch', 'cameras', 'online', 'class', None, None, 'Maybe', 'American', 'thing', None, None, None, 'worried', 'college', 'remember', 'one', 'thing', None, None, 'Bennett', 'get', 'college', 'I', 'finally', 'After', 'year', 'Learners', 'Permit', 'I', 'finally', 'took', 'Drivers', 'License', 'test', 'today', 'passed', None, 'costs', 'billion', None, 'raise', 'money', 'buy', None, 'make', 'things', 'crash', 'quicker', 'Please', 'spread', 'news', 'God', 'princess', 'frog', 'underrated', 'Disney', 'princess', 'movie', 'Probably', 'favorite', 'Disney', 'princess', 'movies', None, 'want', 'feel', 'wanted', 'someone', 'Just', 'rob', 'bank', 'whole', 'police', 'looking', 'Works', None, 'depressed', 'Stop', 'depressed', None, 'Draw', 'part', 'Why', 'people', 'hate', 'British', 'uniforms', None, 'look', 'pretty', 'I', None, 'understand', 'people', 'think', None, 'ugly', None, 'join', None, 'serves', 'ps', 'I', 'recently', 'bought', None, None, 'know', 'Also', 'ps', 'plus', 'necessary', 'I', 'got', 'A', 'writing', 'essay', 'book', 'I', None, 'read', 'It', None, 'write', 'I', 'minutes', None, 'lets', 'chat', None, 'interested', None, 'make', 'friends', 'Also', None, 'bored', 'Why', 'thought', 'dieing', 'make', None, 'plan', 'going', 'happen', None, None, 'waiting', None, 'I', None, 'go', 'right', 'Why', 'thoughts', 'excite', None, 'still', 'alive', None, 'deleting', None, None, 'kind', 'messages', 'place', 'fucking', 'toxic', 'continue', 'u', 'wan', 'na', 'talk', 'I', 'discord', 'aquamarine', 'Writing', None, 'positive', 'day', 'day', 'I', 'slept', 'night', 'I', None, 'tired', 'today', 'Fun', 'Fact', None, 'never', 'using', 'skeleton', 'Its', 'even', 'yet', 'dark', 'outside', 'WHY', None, 'getting', 'ridiculous', None, 'sun', 'needs', 'stop', 'slacking', 'I', 'listening', 'songs', None, None, None, 'Surround', 'Sound', 'ON', None, 'Is', None, 'thoughts', None, 'alternate', 'scenarios', 'almost', None, 'life', 'Name', None, 'Mood', None, 'Ill', 'Recommend', 'A', 'Song', 'Will', 'try', 'pick', 'song', 'enjoy', 'based', 'mood', 'Enjoy', None, 'song', 'recommend', None, 'No', 'matter', 'genre', 'like', 'song', 'recommend', None, None, 'I', 'change', 'iOS', None, 'logos', 'photos', None, 'honestly', 'I', 'know', 'change', None, 'logos', 'help', 'Spicy', 'fried', 'chicken', None, 'spice', 'tender', 'meat', 'aroma', None, 'good', 'STALKER', 'Metro', 'Fallout', 'I', 'want', 'hear', None, 'games', 'Funniest', 'comment', 'gets', 'free', 'helpful', 'award', 'I', 'really', 'need', 'laugh', 'E', None, None, 'I', None, 'like', None, 'But', 'make', 'exceptions', 'ones', 'WILLIAMS', 'GOT', 'AN', 'INVESTMENT', 'I', None, 'know', 'investments', 'GO', 'WILLIAMS', 'GO', None, 'favorite', None, None, 'favorite', None, 'Now', 'Ill', 'best', 'user', 'teenagers', None, 'competitors', 'turned', 'stone', None, 'purely', 'theoretic', 'discussion', 'easiest', 'ways', None, 'prefered', 'way', 'least', 'impact', 'family', 'least', 'destruction', 'body', 'Sleeping', None, 'kill', 'effectively', 'using', 'sleeping', 'pills', 'alcohol', 'like', 'vodka', 'I', None, 'want', 'end', 'vegetable', 'Only', 'holds', 'back', None, None, 'asking', 'friends', 'someone', 'please', 'please', 'tell', None, 'good', 'person', 'want', 'stop', 'want', 'it', 'stop', 'b', 'ad', None, 'scared', None, 'happen', 'want', None, 'know', 'hurt', 'friends', None, 'stalked', 'fault', 'first', None, 'c', 'saw', 'lies', 'lies', 'lies', 'lies', 'lies', None, None, 'think', 'gd', 'wants', 'anymore', 'think', None, 'supposed', 'gone', 'Have', 'mg', 'Xanax', 'Thinking', 'taking', None, 'know', None, 'even', None, 'much', 'It', 'hurts', 'everyday', None, 'sleep', 'I', 'peace', 'I', 'want', 'forever', 'Day', 'one', 'posting', None, 'interesting', 'happens', None, 'Guess', 'cant', 'sleep', None, 'I', 'supposed', 'die', 'sleep', 'I', 'cant', 'sleep', 'I', None, 'think', 'Ill', None, 'awfully', None, 'though', 'Just', 'going', 'rough', 'patch', 'I', 'see', 'reason', 'one', 'actually', 'loves', None, 'faking', 'caring', None, 'one', 'actually', 'cares', 'listen', 'understand', None, 'fault', None, 'nothing', None, 'Nothing', 'makes', 'happy', 'absolutely', 'nothing', 'I', 'plan', 'go', 'outside', 'city', 'hang', 'tree', 'I', 'even', 'picked', 'specific', 'tree', 'easy', 'climb', 'place', 'tie', 'rope', 'thick', 'enough', 'hold', 'weight', 'I', 'reasons', 'left', 'Heres', None, 'year', 'half', 'long', 'relationship', 'ended', None, None, None, 'suicidal', 'Family', 'splitting', 'Sexual', 'assault', 'School', 'sucks', None, None, 'talk', 'At', None, 'close', 'I', 'want', 'either', 'go', 'away', 'Ill', 'make', 'go', 'away', None, 'therapy', 'On', 'meds', 'kinda', 'gone', 'last', 'resorts', 'times', 'police', 'hospital', 'I', 'FINALLY', 'TOLD', None, 'CRUSH', 'I', 'LIKED', None, None, 'HE', 'LIKES', 'ME', 'BACK', None, 'SUPER', 'HAPPY', 'DD'] 773\n"
     ]
    }
   ],
   "source": [
    "replacer = RepeatReplacer()\n",
    "\n",
    "clean_repeat_tokens = []\n",
    "for token in clean_stop_words_tokens:\n",
    "    clean = replacer.replace(word=token)\n",
    "    clean_repeat_tokens.append(clean)\n",
    "    if clean != token: print(token, \"=> clean: \", clean)\n",
    "\n",
    "print(clean_repeat_tokens, len(clean_repeat_tokens))"
   ]
  },
  {
   "cell_type": "markdown",
   "metadata": {},
   "source": [
    "### i. Remove capitalization/ Case normalization"
   ]
  },
  {
   "cell_type": "code",
   "execution_count": 160,
   "metadata": {},
   "outputs": [
    {
     "name": "stdout",
     "output_type": "stream",
     "text": [
      "['teachers', 'seeing', 'submit', 'assignment', 'wonder', 'teachers', 'silently', 'judging', 'ampxb', 'filler', 'filter', 'flicker', 'snicker', 'bicker', 'clicker', 'my', 'uncle', 'got', 'married', 'my', 'uncle', 'got', 'married', 'beautiful', 'wife', 'i', 'would', 'like', 'present', 'something', 'i', 'couldnt', 'think', 'anything', 'else', 'tell', 'guys', 'congratulations', 'uncle', 'jeremy', 'im', 'happy', 'this', 'sad', 'the', 'story', 'girls', 'break', 'i', 'dont', 'need', 'karma', 'go', 'suport', 'how', 'much', 'redit', 'karma', 'considered', 'lot', 'two', 'days', 'ago', 'marked', 'year', 'anniversary', 'redit', 'and', 'time', 'i', 'accumulated', 'bit', 'karma', 'so', 'i', 'wondering', 'much', 'karma', 'considered', 'lot', 'cat', 'attack', 'cat', 'decided', 'jump', 'underneath', 'chair', 'attack', 'barely', 'even', 'scratched', 'cat', 'annoying', 'name', 'edyedmond', 'hes', 'always', 'surprising', 'us', 'time', 'hes', 'super', 'friendly', 'fun', 'times', 'the', 'first', 'youtube', 'video', 'made', 'closer', 'today', 'look', 'months', 'it', 'years', 'months', 'since', 'video', 'made', 'back', 'video', 'made', 'years', 'months', 'away', 'december', 'why', 'chinese', 'people', 'speak', 'chinese', 'difficult', 'they', 'learn', 'easier', 'language', 'like', 'english', 'spanish', 'they', 'speak', 'like', 'languages', 'china', 'i', 'wont', 'list', 'edit', 'actually', 'speak', 'lot', 'ok', 'i', 'draw', 'portrait', 'im', 'bored', 'need', 'inspiration', 'yeah', 'idk', 'ig', 'ill', 'pick', 'favorite', 'draw', 'can', 'recommend', 'music', 'listen', 'so', 'im', 'bored', 'cant', 'fall', 'asleep', 'guys', 'know', 'good', 'songs', 'bands', 'i', 'tried', 'saying', 'get', 'mil', 'subs', 'reason', 'got', 'lot', 'hate', 'boy', 'joke', 'are', 'guys', 'allowed', 'switch', 'cameras', 'online', 'class', 'because', 'im', 'maybe', 'american', 'thing', 'idk', 'to', 'anyone', 'worried', 'college', 'remember', 'one', 'thing', 'if', 'kaitlyn', 'bennett', 'get', 'college', 'i', 'finally', 'after', 'year', 'learners', 'permit', 'i', 'finally', 'took', 'drivers', 'license', 'test', 'today', 'passed', 'redit', 'costs', 'billion', 'if', 'raise', 'money', 'buy', 'redit', 'make', 'things', 'crash', 'quicker', 'please', 'spread', 'news', 'god', 'princess', 'frog', 'underrated', 'disney', 'princess', 'movie', 'probably', 'favorite', 'disney', 'princess', 'movies', 'if', 'want', 'feel', 'wanted', 'someone', 'just', 'rob', 'bank', 'whole', 'police', 'looking', 'works', 'everytime', 'depressed', 'stop', 'depressed', 'hapy', 'draw', 'part', 'why', 'people', 'hate', 'british', 'uniforms', 'they', 'look', 'pretty', 'i', 'dont', 'understand', 'people', 'think', 'theyre', 'ugly', 'how', 'join', 'minecraft', 'serves', 'ps', 'i', 'recently', 'bought', 'minecraft', 'dont', 'know', 'also', 'ps', 'plus', 'necessary', 'i', 'got', 'a', 'writing', 'essay', 'book', 'i', 'didnt', 'read', 'it', 'clas', 'write', 'i', 'minutes', 'yo', 'lets', 'chat', 'hmu', 'interested', 'tryna', 'make', 'friends', 'also', 'im', 'bored', 'why', 'thought', 'dieing', 'make', 'hapyi', 'plan', 'going', 'happen', 'if', 'wasnt', 'waiting', 'something', 'i', 'would', 'go', 'right', 'why', 'thoughts', 'excite', 'im', 'still', 'alive', 'im', 'deleting', 'redit', 'tomorowthanks', 'kind', 'messages', 'place', 'fucking', 'toxic', 'continue', 'u', 'wan', 'na', 'talk', 'i', 'discord', 'aquamarine', 'writing', 'something', 'positive', 'day', 'day', 'i', 'slept', 'night', 'i', 'wasnt', 'tired', 'today', 'fun', 'fact', 'you', 'never', 'using', 'skeleton', 'its', 'even', 'yet', 'dark', 'outside', 'why', 'this', 'getting', 'ridiculous', 'the', 'sun', 'needs', 'stop', 'slacking', 'i', 'listening', 'songs', 'sdcardmusichans', 'zimerinceptionmombasawav', 'with', 'surround', 'sound', 'on', 'soundalive', 'is', 'that', 'thoughts', 'cringyembarasing', 'alternate', 'scenarios', 'almost', 'hapened', 'life', 'name', 'your', 'mood', 'and', 'ill', 'recommend', 'a', 'song', 'will', 'try', 'pick', 'song', 'enjoy', 'based', 'mood', 'enjoy', 'whats', 'song', 'recommend', 'everyone', 'no', 'matter', 'genre', 'like', 'song', 'recommend', 'everyone', 'how', 'i', 'change', 'ios', 'ap', 'logos', 'photos', 'im', 'honestly', 'i', 'know', 'change', 'ap', 'logos', 'help', 'spicy', 'fried', 'chicken', 'gtgtgtgtgt', 'spice', 'tender', 'meat', 'aroma', 'everything', 'good', 'stalker', 'metro', 'fallout', 'i', 'want', 'hear', 'opiniuns', 'games', 'funniest', 'comment', 'gets', 'free', 'helpful', 'award', 'i', 'really', 'need', 'laugh', 'e', 'lalalalalalalalalalalalalalalalalalalalalalala', 'brbrbrbrbrbrbrbrbrbrbrbrbrbrbrbrbrb', 'i', 'dont', 'like', 'emojis', 'but', 'make', 'exceptions', 'ones', 'williams', 'got', 'an', 'investment', 'i', 'dont', 'know', 'investments', 'go', 'williams', 'go', 'ucolstarfish', 'favorite', 'reditor', 'ucolstarfish', 'favorite', 'reditor', 'now', 'ill', 'best', 'user', 'teenagers', 'and', 'competitors', 'turned', 'stone', 'methodsjust', 'purely', 'theoretic', 'discussion', 'easiest', 'ways', 'would', 'prefered', 'way', 'least', 'impact', 'family', 'least', 'destruction', 'body', 'sleeping', 'pilshow', 'kill', 'effectively', 'using', 'sleeping', 'pills', 'alcohol', 'like', 'vodka', 'i', 'dont', 'want', 'end', 'vegetable', 'only', 'holds', 'back', 'thats', 'im', 'asking', 'friends', 'someone', 'please', 'please', 'tell', 'toim', 'good', 'person', 'want', 'stop', 'want', 'it', 'stop', 'b', 'ad', 'im', 'scared', 'would', 'happen', 'want', 'dont', 'know', 'hurt', 'friends', 'hey', 'stalked', 'fault', 'first', 'plae', 'c', 'saw', 'lies', 'lies', 'lies', 'lies', 'lies', 'them', 'dont', 'think', 'gd', 'wants', 'anymore', 'think', 'im', 'supposed', 'gone', 'have', 'mg', 'xanax', 'thinking', 'taking', 'dont', 'know', 'im', 'even', 'postingits', 'much', 'it', 'hurts', 'everyday', 'my', 'sleep', 'i', 'peace', 'i', 'want', 'forever', 'day', 'one', 'posting', 'something', 'interesting', 'happens', 'qwertyiopasdfghjklzxcvbnm', 'guess', 'cant', 'sleep', 'how', 'i', 'supposed', 'die', 'sleep', 'i', 'cant', 'sleep', 'i', 'dont', 'think', 'ill', 'itits', 'awfully', 'temping', 'though', 'just', 'going', 'rough', 'patch', 'i', 'see', 'reason', 'one', 'actually', 'loves', 'everyone', 'faking', 'caring', 'meno', 'one', 'actually', 'cares', 'listen', 'understand', 'im', 'fault', 'everything', 'nothing', 'reversable', 'nothing', 'makes', 'happy', 'absolutely', 'nothing', 'i', 'plan', 'go', 'outside', 'city', 'hang', 'tree', 'i', 'even', 'picked', 'specific', 'tree', 'easy', 'climb', 'place', 'tie', 'rope', 'thick', 'enough', 'hold', 'weight', 'i', 'reasons', 'left', 'heres', 'my', 'year', 'half', 'long', 'relationship', 'ended', 'peoplethink', 'im', 'takinglying', 'suicidal', 'family', 'splitting', 'sexual', 'assault', 'school', 'sucks', 'if', 'anyone', 'talk', 'at', 'im', 'close', 'i', 'want', 'either', 'go', 'away', 'ill', 'make', 'go', 'away', 'im', 'therapy', 'on', 'meds', 'kinda', 'gone', 'last', 'resorts', 'times', 'police', 'hospital', 'i', 'finally', 'told', 'my', 'crush', 'i', 'liked', 'him', 'and', 'he', 'likes', 'me', 'back', 'im', 'super', 'happy', 'dd']\n"
     ]
    }
   ],
   "source": [
    "normal_tokens = []\n",
    "for token in clean_repeat_tokens:\n",
    "    normal_tokens.append(token.lower())\n",
    "\n",
    "print(normal_tokens)"
   ]
  },
  {
   "cell_type": "markdown",
   "metadata": {},
   "source": [
    "### j. Remove Whitespaces, for instance, He llo → Hello\n",
    "\n",
    "در اولين قسمت از سوال عمليات حذف اسپيس هاي اضافي را انجام داديم و اكنون توكنهاي تميز را ساخته ايم و ديگر نيازي به اجراي اين بخش نيست"
   ]
  },
  {
   "cell_type": "code",
   "execution_count": 161,
   "metadata": {},
   "outputs": [],
   "source": [
    "# remove white spaces and tabs\n",
    "# clean_data = clean_data.replace(\"\\\\t\", \" \")\n",
    "# clean_data = re.sub(re.compile(r'\\s+'), \" \", clean_data)"
   ]
  },
  {
   "cell_type": "markdown",
   "metadata": {},
   "source": [
    "### k. Typo Correction/ Misspelled words: big “dada” → big “data”;"
   ]
  },
  {
   "cell_type": "markdown",
   "metadata": {},
   "source": [
    "### Spell Correction\n",
    "Spelling errors happen a lot for various reasons such as proximity between keyboards and other reasons.In this section, we want to learn how to detect and correct it.\n",
    "\n",
    "- Spell Error Detection\n",
    "    - We make a dictionary of language words, where we can use the **wordnet corpus**. **The words that are not in this data set as dictionary words are considered misspelled**.\n",
    "\n",
    "- Spell Error Correction Method\n",
    "    1. We extract the list of **synonyms** or **SynSets** of the word, for which we can also use NLTK and Wordnet.\n",
    "    2. We choose the word that has the s**mallest Editing distance** as the corrected word.\n",
    "\n",
    "#### What is Editing distance?\n",
    "The distance of converting one word to another using deletion, insertion and substitution of characters. Each of these operations has a point.\n",
    "- [Delete: 1 point] [Insert: 1 point] [Substitution: 2 point]\n",
    "- Example: We want to calculate the editing distance between two words, **there** are **three**\n",
    "    - one delete + one insert : (there->thre) and (thre->three) => ED = 1+1=2\n",
    "\n",
    "#### spelling correction implementation\n",
    "To spelling correction in this project, we used the **autocorrect** library.\n",
    "- we also implemented this operation from scratch with the of **NLTK** and **Wordnet** based on the editing distance and the given description, which is available at the following address. [Custom_Spell_Corrector](docs/Custom_Spell_Corrector.ipynb)"
   ]
  },
  {
   "cell_type": "code",
   "execution_count": null,
   "metadata": {},
   "outputs": [],
   "source": [
    "! pip install autocorrect"
   ]
  },
  {
   "cell_type": "code",
   "execution_count": 163,
   "metadata": {},
   "outputs": [
    {
     "name": "stdout",
     "output_type": "stream",
     "text": [
      "big data\n",
      "correct\n"
     ]
    }
   ],
   "source": [
    "from autocorrect import Speller\n",
    "\n",
    "speller = Speller()\n",
    "\n",
    "print(speller(\"big dada\"))\n",
    "print(speller(\"corect\"))"
   ]
  },
  {
   "cell_type": "code",
   "execution_count": 164,
   "metadata": {},
   "outputs": [
    {
     "name": "stdout",
     "output_type": "stream",
     "text": [
      "ampxb => clean spell:  amp\n",
      "snicker => clean spell:  sticker\n",
      "bicker => clean spell:  kicker\n",
      "clicker => clean spell:  clicked\n",
      "suport => clean spell:  sport\n",
      "redit => clean spell:  edit\n",
      "redit => clean spell:  edit\n",
      "idk => clean spell:  id\n",
      "idk => clean spell:  id\n",
      "redit => clean spell:  edit\n",
      "redit => clean spell:  edit\n",
      "everytime => clean spell:  overtime\n",
      "hapy => clean spell:  happy\n",
      "clas => clean spell:  class\n",
      "hmu => clean spell:  hu\n",
      "tryna => clean spell:  try\n",
      "dieing => clean spell:  diving\n",
      "hapyi => clean spell:  happy\n",
      "redit => clean spell:  edit\n",
      "slacking => clean spell:  lacking\n",
      "hapened => clean spell:  happened\n",
      "opiniuns => clean spell:  opinions\n",
      "emojis => clean spell:  emoji\n",
      "reditor => clean spell:  editor\n",
      "reditor => clean spell:  editor\n",
      "prefered => clean spell:  preferred\n",
      "pilshow => clean spell:  pillow\n",
      "toim => clean spell:  tom\n",
      "plae => clean spell:  place\n",
      "xanax => clean spell:  canal\n",
      "postingits => clean spell:  postings\n",
      "itits => clean spell:  itis\n",
      "temping => clean spell:  tempting\n",
      "meno => clean spell:  men\n",
      "reversable => clean spell:  reversible\n",
      "meds => clean spell:  mens\n",
      "['teachers', 'seeing', 'submit', 'assignment', 'wonder', 'teachers', 'silently', 'judging', 'amp', 'filler', 'filter', 'flicker', 'sticker', 'kicker', 'clicked', 'my', 'uncle', 'got', 'married', 'my', 'uncle', 'got', 'married', 'beautiful', 'wife', 'i', 'would', 'like', 'present', 'something', 'i', 'couldnt', 'think', 'anything', 'else', 'tell', 'guys', 'congratulations', 'uncle', 'jeremy', 'im', 'happy', 'this', 'sad', 'the', 'story', 'girls', 'break', 'i', 'dont', 'need', 'karma', 'go', 'sport', 'how', 'much', 'edit', 'karma', 'considered', 'lot', 'two', 'days', 'ago', 'marked', 'year', 'anniversary', 'edit', 'and', 'time', 'i', 'accumulated', 'bit', 'karma', 'so', 'i', 'wondering', 'much', 'karma', 'considered', 'lot', 'cat', 'attack', 'cat', 'decided', 'jump', 'underneath', 'chair', 'attack', 'barely', 'even', 'scratched', 'cat', 'annoying', 'name', 'edyedmond', 'hes', 'always', 'surprising', 'us', 'time', 'hes', 'super', 'friendly', 'fun', 'times', 'the', 'first', 'youtube', 'video', 'made', 'closer', 'today', 'look', 'months', 'it', 'years', 'months', 'since', 'video', 'made', 'back', 'video', 'made', 'years', 'months', 'away', 'december', 'why', 'chinese', 'people', 'speak', 'chinese', 'difficult', 'they', 'learn', 'easier', 'language', 'like', 'english', 'spanish', 'they', 'speak', 'like', 'languages', 'china', 'i', 'wont', 'list', 'edit', 'actually', 'speak', 'lot', 'ok', 'i', 'draw', 'portrait', 'im', 'bored', 'need', 'inspiration', 'yeah', 'id', 'ig', 'ill', 'pick', 'favorite', 'draw', 'can', 'recommend', 'music', 'listen', 'so', 'im', 'bored', 'cant', 'fall', 'asleep', 'guys', 'know', 'good', 'songs', 'bands', 'i', 'tried', 'saying', 'get', 'mil', 'subs', 'reason', 'got', 'lot', 'hate', 'boy', 'joke', 'are', 'guys', 'allowed', 'switch', 'cameras', 'online', 'class', 'because', 'im', 'maybe', 'american', 'thing', 'id', 'to', 'anyone', 'worried', 'college', 'remember', 'one', 'thing', 'if', 'kaitlyn', 'bennett', 'get', 'college', 'i', 'finally', 'after', 'year', 'learners', 'permit', 'i', 'finally', 'took', 'drivers', 'license', 'test', 'today', 'passed', 'edit', 'costs', 'billion', 'if', 'raise', 'money', 'buy', 'edit', 'make', 'things', 'crash', 'quicker', 'please', 'spread', 'news', 'god', 'princess', 'frog', 'underrated', 'disney', 'princess', 'movie', 'probably', 'favorite', 'disney', 'princess', 'movies', 'if', 'want', 'feel', 'wanted', 'someone', 'just', 'rob', 'bank', 'whole', 'police', 'looking', 'works', 'overtime', 'depressed', 'stop', 'depressed', 'happy', 'draw', 'part', 'why', 'people', 'hate', 'british', 'uniforms', 'they', 'look', 'pretty', 'i', 'dont', 'understand', 'people', 'think', 'theyre', 'ugly', 'how', 'join', 'minecraft', 'serves', 'ps', 'i', 'recently', 'bought', 'minecraft', 'dont', 'know', 'also', 'ps', 'plus', 'necessary', 'i', 'got', 'a', 'writing', 'essay', 'book', 'i', 'didnt', 'read', 'it', 'class', 'write', 'i', 'minutes', 'yo', 'lets', 'chat', 'hu', 'interested', 'try', 'make', 'friends', 'also', 'im', 'bored', 'why', 'thought', 'diving', 'make', 'happy', 'plan', 'going', 'happen', 'if', 'wasnt', 'waiting', 'something', 'i', 'would', 'go', 'right', 'why', 'thoughts', 'excite', 'im', 'still', 'alive', 'im', 'deleting', 'edit', 'tomorowthanks', 'kind', 'messages', 'place', 'fucking', 'toxic', 'continue', 'u', 'wan', 'na', 'talk', 'i', 'discord', 'aquamarine', 'writing', 'something', 'positive', 'day', 'day', 'i', 'slept', 'night', 'i', 'wasnt', 'tired', 'today', 'fun', 'fact', 'you', 'never', 'using', 'skeleton', 'its', 'even', 'yet', 'dark', 'outside', 'why', 'this', 'getting', 'ridiculous', 'the', 'sun', 'needs', 'stop', 'lacking', 'i', 'listening', 'songs', 'sdcardmusichans', 'zimerinceptionmombasawav', 'with', 'surround', 'sound', 'on', 'soundalive', 'is', 'that', 'thoughts', 'cringyembarasing', 'alternate', 'scenarios', 'almost', 'happened', 'life', 'name', 'your', 'mood', 'and', 'ill', 'recommend', 'a', 'song', 'will', 'try', 'pick', 'song', 'enjoy', 'based', 'mood', 'enjoy', 'whats', 'song', 'recommend', 'everyone', 'no', 'matter', 'genre', 'like', 'song', 'recommend', 'everyone', 'how', 'i', 'change', 'ios', 'ap', 'logos', 'photos', 'im', 'honestly', 'i', 'know', 'change', 'ap', 'logos', 'help', 'spicy', 'fried', 'chicken', 'gtgtgtgtgt', 'spice', 'tender', 'meat', 'aroma', 'everything', 'good', 'stalker', 'metro', 'fallout', 'i', 'want', 'hear', 'opinions', 'games', 'funniest', 'comment', 'gets', 'free', 'helpful', 'award', 'i', 'really', 'need', 'laugh', 'e', 'lalalalalalalalalalalalalalalalalalalalalalala', 'brbrbrbrbrbrbrbrbrbrbrbrbrbrbrbrbrb', 'i', 'dont', 'like', 'emoji', 'but', 'make', 'exceptions', 'ones', 'williams', 'got', 'an', 'investment', 'i', 'dont', 'know', 'investments', 'go', 'williams', 'go', 'ucolstarfish', 'favorite', 'editor', 'ucolstarfish', 'favorite', 'editor', 'now', 'ill', 'best', 'user', 'teenagers', 'and', 'competitors', 'turned', 'stone', 'methodsjust', 'purely', 'theoretic', 'discussion', 'easiest', 'ways', 'would', 'preferred', 'way', 'least', 'impact', 'family', 'least', 'destruction', 'body', 'sleeping', 'pillow', 'kill', 'effectively', 'using', 'sleeping', 'pills', 'alcohol', 'like', 'vodka', 'i', 'dont', 'want', 'end', 'vegetable', 'only', 'holds', 'back', 'thats', 'im', 'asking', 'friends', 'someone', 'please', 'please', 'tell', 'tom', 'good', 'person', 'want', 'stop', 'want', 'it', 'stop', 'b', 'ad', 'im', 'scared', 'would', 'happen', 'want', 'dont', 'know', 'hurt', 'friends', 'hey', 'stalked', 'fault', 'first', 'place', 'c', 'saw', 'lies', 'lies', 'lies', 'lies', 'lies', 'them', 'dont', 'think', 'gd', 'wants', 'anymore', 'think', 'im', 'supposed', 'gone', 'have', 'mg', 'canal', 'thinking', 'taking', 'dont', 'know', 'im', 'even', 'postings', 'much', 'it', 'hurts', 'everyday', 'my', 'sleep', 'i', 'peace', 'i', 'want', 'forever', 'day', 'one', 'posting', 'something', 'interesting', 'happens', 'qwertyiopasdfghjklzxcvbnm', 'guess', 'cant', 'sleep', 'how', 'i', 'supposed', 'die', 'sleep', 'i', 'cant', 'sleep', 'i', 'dont', 'think', 'ill', 'itis', 'awfully', 'tempting', 'though', 'just', 'going', 'rough', 'patch', 'i', 'see', 'reason', 'one', 'actually', 'loves', 'everyone', 'faking', 'caring', 'men', 'one', 'actually', 'cares', 'listen', 'understand', 'im', 'fault', 'everything', 'nothing', 'reversible', 'nothing', 'makes', 'happy', 'absolutely', 'nothing', 'i', 'plan', 'go', 'outside', 'city', 'hang', 'tree', 'i', 'even', 'picked', 'specific', 'tree', 'easy', 'climb', 'place', 'tie', 'rope', 'thick', 'enough', 'hold', 'weight', 'i', 'reasons', 'left', 'heres', 'my', 'year', 'half', 'long', 'relationship', 'ended', 'peoplethink', 'im', 'takinglying', 'suicidal', 'family', 'splitting', 'sexual', 'assault', 'school', 'sucks', 'if', 'anyone', 'talk', 'at', 'im', 'close', 'i', 'want', 'either', 'go', 'away', 'ill', 'make', 'go', 'away', 'im', 'therapy', 'on', 'mens', 'kinda', 'gone', 'last', 'resorts', 'times', 'police', 'hospital', 'i', 'finally', 'told', 'my', 'crush', 'i', 'liked', 'him', 'and', 'he', 'likes', 'me', 'back', 'im', 'super', 'happy', 'dd'] 773\n"
     ]
    }
   ],
   "source": [
    "from autocorrect import Speller\n",
    "\n",
    "speller = Speller()\n",
    "\n",
    "clean_spell_tokens = []\n",
    "for token in normal_tokens:\n",
    "    clean = speller(token)\n",
    "    if clean != token: print(token, \"=> clean spell: \", clean)\n",
    "    clean_spell_tokens.append(clean)\n",
    "\n",
    "print(clean_spell_tokens, len(clean_spell_tokens))"
   ]
  },
  {
   "cell_type": "markdown",
   "metadata": {},
   "source": [
    "### l. Stemming or lemmatization\n",
    "تبدیل فرم های مختلف یک کلمه به فرم پایه آن کلمه \n",
    "- پاک کردن کاراکترهای اضافی از ابتدا و انتهای کلمه مورد نظر\n",
    "- تبدیل جمع به مفرد\n",
    "- تبدیل حروف بزرگ به کوچک\n",
    "- اجرای الگوریتم ها و دستورات زبان شناسی برای رسیده به ریشه کلمه \n",
    "\n",
    "### Porter Stemmer\n",
    "این روش توسط موتور های جستجو برای ذخیره کردن ریشه کلمات بجای خود آن کلمات بکار میرود و مزایای زیر را به همراه دارد\n",
    "- کاهش اندازه کلمات ایندکس گذاری شده\n",
    "- افزایش دقت در الگوریتم های جستجو\n",
    "این روش براساس قواعد زبان شناسی زبان های طبیعی سعی میکند تا ریشه و فرم پایه یک کلمه را استخراج کند. در تصویر زیر مراحل و مثالهایی از این الگوریتم را مشاهده میکنیم\n",
    "\n",
    "![porterstemmer](./docs/PorterStemmer.png)\n"
   ]
  },
  {
   "cell_type": "code",
   "execution_count": 165,
   "metadata": {},
   "outputs": [
    {
     "data": {
      "text/plain": [
       "'inform'"
      ]
     },
     "execution_count": 165,
     "metadata": {},
     "output_type": "execute_result"
    }
   ],
   "source": [
    "from nltk.stem import PorterStemmer\n",
    "\n",
    "stemmer = PorterStemmer()\n",
    "stemmer.stem(\"information\")"
   ]
  },
  {
   "cell_type": "code",
   "execution_count": 166,
   "metadata": {},
   "outputs": [
    {
     "name": "stdout",
     "output_type": "stream",
     "text": [
      "teachers => teacher\n",
      "seeing => see\n",
      "assignment => assign\n",
      "teachers => teacher\n",
      "silently => silent\n",
      "judging => judg\n",
      "clicked => click\n",
      "uncle => uncl\n",
      "married => marri\n",
      "uncle => uncl\n",
      "married => marri\n",
      "beautiful => beauti\n",
      "something => someth\n",
      "anything => anyth\n",
      "else => els\n",
      "guys => guy\n",
      "congratulations => congratul\n",
      "uncle => uncl\n",
      "jeremy => jeremi\n",
      "happy => happi\n",
      "this => thi\n",
      "story => stori\n",
      "girls => girl\n",
      "considered => consid\n",
      "days => day\n",
      "marked => mark\n",
      "anniversary => anniversari\n",
      "accumulated => accumul\n",
      "wondering => wonder\n",
      "considered => consid\n",
      "decided => decid\n",
      "barely => bare\n",
      "scratched => scratch\n",
      "annoying => annoy\n",
      "hes => he\n",
      "always => alway\n",
      "surprising => surpris\n",
      "hes => he\n",
      "friendly => friendli\n",
      "times => time\n",
      "youtube => youtub\n",
      "months => month\n",
      "years => year\n",
      "months => month\n",
      "since => sinc\n",
      "years => year\n",
      "months => month\n",
      "december => decemb\n",
      "why => whi\n",
      "chinese => chines\n",
      "people => peopl\n",
      "chinese => chines\n",
      "language => languag\n",
      "languages => languag\n",
      "actually => actual\n",
      "bored => bore\n",
      "inspiration => inspir\n",
      "favorite => favorit\n",
      "bored => bore\n",
      "guys => guy\n",
      "songs => song\n",
      "bands => band\n",
      "tried => tri\n",
      "saying => say\n",
      "subs => sub\n",
      "guys => guy\n",
      "allowed => allow\n",
      "cameras => camera\n",
      "online => onlin\n",
      "because => becaus\n",
      "maybe => mayb\n",
      "anyone => anyon\n",
      "worried => worri\n",
      "college => colleg\n",
      "remember => rememb\n",
      "college => colleg\n",
      "finally => final\n",
      "learners => learner\n",
      "finally => final\n",
      "drivers => driver\n",
      "license => licens\n",
      "passed => pass\n",
      "costs => cost\n",
      "raise => rais\n",
      "things => thing\n",
      "please => pleas\n",
      "underrated => underr\n",
      "movie => movi\n",
      "probably => probabl\n",
      "favorite => favorit\n",
      "movies => movi\n",
      "wanted => want\n",
      "someone => someon\n",
      "police => polic\n",
      "looking => look\n",
      "works => work\n",
      "overtime => overtim\n",
      "depressed => depress\n",
      "depressed => depress\n",
      "happy => happi\n",
      "why => whi\n",
      "people => peopl\n",
      "uniforms => uniform\n",
      "pretty => pretti\n",
      "people => peopl\n",
      "theyre => theyr\n",
      "ugly => ugli\n",
      "serves => serv\n",
      "recently => recent\n",
      "plus => plu\n",
      "necessary => necessari\n",
      "writing => write\n",
      "minutes => minut\n",
      "lets => let\n",
      "interested => interest\n",
      "try => tri\n",
      "friends => friend\n",
      "bored => bore\n",
      "why => whi\n",
      "diving => dive\n",
      "happy => happi\n",
      "going => go\n",
      "waiting => wait\n",
      "something => someth\n",
      "why => whi\n",
      "thoughts => thought\n",
      "excite => excit\n",
      "alive => aliv\n",
      "deleting => delet\n",
      "tomorowthanks => tomorowthank\n",
      "messages => messag\n",
      "fucking => fuck\n",
      "continue => continu\n",
      "aquamarine => aquamarin\n",
      "writing => write\n",
      "something => someth\n",
      "positive => posit\n",
      "tired => tire\n",
      "using => use\n",
      "its => it\n",
      "outside => outsid\n",
      "why => whi\n",
      "this => thi\n",
      "getting => get\n",
      "ridiculous => ridicul\n",
      "needs => need\n",
      "lacking => lack\n",
      "listening => listen\n",
      "songs => song\n",
      "sdcardmusichans => sdcardmusichan\n",
      "soundalive => soundal\n",
      "thoughts => thought\n",
      "cringyembarasing => cringyembaras\n",
      "alternate => altern\n",
      "scenarios => scenario\n",
      "happened => happen\n",
      "try => tri\n",
      "based => base\n",
      "whats => what\n",
      "everyone => everyon\n",
      "genre => genr\n",
      "everyone => everyon\n",
      "change => chang\n",
      "ios => io\n",
      "logos => logo\n",
      "photos => photo\n",
      "honestly => honestli\n",
      "change => chang\n",
      "logos => logo\n",
      "spicy => spici\n",
      "fried => fri\n",
      "everything => everyth\n",
      "opinions => opinion\n",
      "games => game\n",
      "gets => get\n",
      "helpful => help\n",
      "really => realli\n",
      "exceptions => except\n",
      "ones => one\n",
      "williams => william\n",
      "investment => invest\n",
      "investments => invest\n",
      "williams => william\n",
      "favorite => favorit\n",
      "favorite => favorit\n",
      "teenagers => teenag\n",
      "competitors => competitor\n",
      "turned => turn\n",
      "purely => pure\n",
      "theoretic => theoret\n",
      "discussion => discuss\n",
      "ways => way\n",
      "preferred => prefer\n",
      "family => famili\n",
      "destruction => destruct\n",
      "body => bodi\n",
      "sleeping => sleep\n",
      "effectively => effect\n",
      "using => use\n",
      "sleeping => sleep\n",
      "pills => pill\n",
      "vegetable => veget\n",
      "only => onli\n",
      "holds => hold\n",
      "thats => that\n",
      "asking => ask\n",
      "friends => friend\n",
      "someone => someon\n",
      "please => pleas\n",
      "please => pleas\n",
      "scared => scare\n",
      "friends => friend\n",
      "stalked => stalk\n",
      "lies => lie\n",
      "lies => lie\n",
      "lies => lie\n",
      "lies => lie\n",
      "lies => lie\n",
      "wants => want\n",
      "anymore => anymor\n",
      "supposed => suppos\n",
      "thinking => think\n",
      "taking => take\n",
      "postings => post\n",
      "hurts => hurt\n",
      "peace => peac\n",
      "forever => forev\n",
      "posting => post\n",
      "something => someth\n",
      "interesting => interest\n",
      "happens => happen\n",
      "supposed => suppos\n",
      "itis => iti\n",
      "awfully => aw\n",
      "tempting => tempt\n",
      "going => go\n",
      "actually => actual\n",
      "loves => love\n",
      "everyone => everyon\n",
      "faking => fake\n",
      "caring => care\n",
      "actually => actual\n",
      "cares => care\n",
      "everything => everyth\n",
      "nothing => noth\n",
      "reversible => revers\n",
      "nothing => noth\n",
      "makes => make\n",
      "happy => happi\n",
      "absolutely => absolut\n",
      "nothing => noth\n",
      "outside => outsid\n",
      "city => citi\n",
      "picked => pick\n",
      "specific => specif\n",
      "easy => easi\n",
      "reasons => reason\n",
      "heres => here\n",
      "ended => end\n",
      "takinglying => takingli\n",
      "suicidal => suicid\n",
      "family => famili\n",
      "splitting => split\n",
      "sucks => suck\n",
      "anyone => anyon\n",
      "therapy => therapi\n",
      "mens => men\n",
      "resorts => resort\n",
      "times => time\n",
      "police => polic\n",
      "hospital => hospit\n",
      "finally => final\n",
      "liked => like\n",
      "likes => like\n",
      "happy => happi\n",
      "['teacher', 'see', 'submit', 'assign', 'wonder', 'teacher', 'silent', 'judg', 'amp', 'filler', 'filter', 'flicker', 'sticker', 'kicker', 'click', 'my', 'uncl', 'got', 'marri', 'my', 'uncl', 'got', 'marri', 'beauti', 'wife', 'i', 'would', 'like', 'present', 'someth', 'i', 'couldnt', 'think', 'anyth', 'els', 'tell', 'guy', 'congratul', 'uncl', 'jeremi', 'im', 'happi', 'thi', 'sad', 'the', 'stori', 'girl', 'break', 'i', 'dont', 'need', 'karma', 'go', 'sport', 'how', 'much', 'edit', 'karma', 'consid', 'lot', 'two', 'day', 'ago', 'mark', 'year', 'anniversari', 'edit', 'and', 'time', 'i', 'accumul', 'bit', 'karma', 'so', 'i', 'wonder', 'much', 'karma', 'consid', 'lot', 'cat', 'attack', 'cat', 'decid', 'jump', 'underneath', 'chair', 'attack', 'bare', 'even', 'scratch', 'cat', 'annoy', 'name', 'edyedmond', 'he', 'alway', 'surpris', 'us', 'time', 'he', 'super', 'friendli', 'fun', 'time', 'the', 'first', 'youtub', 'video', 'made', 'closer', 'today', 'look', 'month', 'it', 'year', 'month', 'sinc', 'video', 'made', 'back', 'video', 'made', 'year', 'month', 'away', 'decemb', 'whi', 'chines', 'peopl', 'speak', 'chines', 'difficult', 'they', 'learn', 'easier', 'languag', 'like', 'english', 'spanish', 'they', 'speak', 'like', 'languag', 'china', 'i', 'wont', 'list', 'edit', 'actual', 'speak', 'lot', 'ok', 'i', 'draw', 'portrait', 'im', 'bore', 'need', 'inspir', 'yeah', 'id', 'ig', 'ill', 'pick', 'favorit', 'draw', 'can', 'recommend', 'music', 'listen', 'so', 'im', 'bore', 'cant', 'fall', 'asleep', 'guy', 'know', 'good', 'song', 'band', 'i', 'tri', 'say', 'get', 'mil', 'sub', 'reason', 'got', 'lot', 'hate', 'boy', 'joke', 'are', 'guy', 'allow', 'switch', 'camera', 'onlin', 'class', 'becaus', 'im', 'mayb', 'american', 'thing', 'id', 'to', 'anyon', 'worri', 'colleg', 'rememb', 'one', 'thing', 'if', 'kaitlyn', 'bennett', 'get', 'colleg', 'i', 'final', 'after', 'year', 'learner', 'permit', 'i', 'final', 'took', 'driver', 'licens', 'test', 'today', 'pass', 'edit', 'cost', 'billion', 'if', 'rais', 'money', 'buy', 'edit', 'make', 'thing', 'crash', 'quicker', 'pleas', 'spread', 'news', 'god', 'princess', 'frog', 'underr', 'disney', 'princess', 'movi', 'probabl', 'favorit', 'disney', 'princess', 'movi', 'if', 'want', 'feel', 'want', 'someon', 'just', 'rob', 'bank', 'whole', 'polic', 'look', 'work', 'overtim', 'depress', 'stop', 'depress', 'happi', 'draw', 'part', 'whi', 'peopl', 'hate', 'british', 'uniform', 'they', 'look', 'pretti', 'i', 'dont', 'understand', 'peopl', 'think', 'theyr', 'ugli', 'how', 'join', 'minecraft', 'serv', 'ps', 'i', 'recent', 'bought', 'minecraft', 'dont', 'know', 'also', 'ps', 'plu', 'necessari', 'i', 'got', 'a', 'write', 'essay', 'book', 'i', 'didnt', 'read', 'it', 'class', 'write', 'i', 'minut', 'yo', 'let', 'chat', 'hu', 'interest', 'tri', 'make', 'friend', 'also', 'im', 'bore', 'whi', 'thought', 'dive', 'make', 'happi', 'plan', 'go', 'happen', 'if', 'wasnt', 'wait', 'someth', 'i', 'would', 'go', 'right', 'whi', 'thought', 'excit', 'im', 'still', 'aliv', 'im', 'delet', 'edit', 'tomorowthank', 'kind', 'messag', 'place', 'fuck', 'toxic', 'continu', 'u', 'wan', 'na', 'talk', 'i', 'discord', 'aquamarin', 'write', 'someth', 'posit', 'day', 'day', 'i', 'slept', 'night', 'i', 'wasnt', 'tire', 'today', 'fun', 'fact', 'you', 'never', 'use', 'skeleton', 'it', 'even', 'yet', 'dark', 'outsid', 'whi', 'thi', 'get', 'ridicul', 'the', 'sun', 'need', 'stop', 'lack', 'i', 'listen', 'song', 'sdcardmusichan', 'zimerinceptionmombasawav', 'with', 'surround', 'sound', 'on', 'soundal', 'is', 'that', 'thought', 'cringyembaras', 'altern', 'scenario', 'almost', 'happen', 'life', 'name', 'your', 'mood', 'and', 'ill', 'recommend', 'a', 'song', 'will', 'tri', 'pick', 'song', 'enjoy', 'base', 'mood', 'enjoy', 'what', 'song', 'recommend', 'everyon', 'no', 'matter', 'genr', 'like', 'song', 'recommend', 'everyon', 'how', 'i', 'chang', 'io', 'ap', 'logo', 'photo', 'im', 'honestli', 'i', 'know', 'chang', 'ap', 'logo', 'help', 'spici', 'fri', 'chicken', 'gtgtgtgtgt', 'spice', 'tender', 'meat', 'aroma', 'everyth', 'good', 'stalker', 'metro', 'fallout', 'i', 'want', 'hear', 'opinion', 'game', 'funniest', 'comment', 'get', 'free', 'help', 'award', 'i', 'realli', 'need', 'laugh', 'e', 'lalalalalalalalalalalalalalalalalalalalalalala', 'brbrbrbrbrbrbrbrbrbrbrbrbrbrbrbrbrb', 'i', 'dont', 'like', 'emoji', 'but', 'make', 'except', 'one', 'william', 'got', 'an', 'invest', 'i', 'dont', 'know', 'invest', 'go', 'william', 'go', 'ucolstarfish', 'favorit', 'editor', 'ucolstarfish', 'favorit', 'editor', 'now', 'ill', 'best', 'user', 'teenag', 'and', 'competitor', 'turn', 'stone', 'methodsjust', 'pure', 'theoret', 'discuss', 'easiest', 'way', 'would', 'prefer', 'way', 'least', 'impact', 'famili', 'least', 'destruct', 'bodi', 'sleep', 'pillow', 'kill', 'effect', 'use', 'sleep', 'pill', 'alcohol', 'like', 'vodka', 'i', 'dont', 'want', 'end', 'veget', 'onli', 'hold', 'back', 'that', 'im', 'ask', 'friend', 'someon', 'pleas', 'pleas', 'tell', 'tom', 'good', 'person', 'want', 'stop', 'want', 'it', 'stop', 'b', 'ad', 'im', 'scare', 'would', 'happen', 'want', 'dont', 'know', 'hurt', 'friend', 'hey', 'stalk', 'fault', 'first', 'place', 'c', 'saw', 'lie', 'lie', 'lie', 'lie', 'lie', 'them', 'dont', 'think', 'gd', 'want', 'anymor', 'think', 'im', 'suppos', 'gone', 'have', 'mg', 'canal', 'think', 'take', 'dont', 'know', 'im', 'even', 'post', 'much', 'it', 'hurt', 'everyday', 'my', 'sleep', 'i', 'peac', 'i', 'want', 'forev', 'day', 'one', 'post', 'someth', 'interest', 'happen', 'qwertyiopasdfghjklzxcvbnm', 'guess', 'cant', 'sleep', 'how', 'i', 'suppos', 'die', 'sleep', 'i', 'cant', 'sleep', 'i', 'dont', 'think', 'ill', 'iti', 'aw', 'tempt', 'though', 'just', 'go', 'rough', 'patch', 'i', 'see', 'reason', 'one', 'actual', 'love', 'everyon', 'fake', 'care', 'men', 'one', 'actual', 'care', 'listen', 'understand', 'im', 'fault', 'everyth', 'noth', 'revers', 'noth', 'make', 'happi', 'absolut', 'noth', 'i', 'plan', 'go', 'outsid', 'citi', 'hang', 'tree', 'i', 'even', 'pick', 'specif', 'tree', 'easi', 'climb', 'place', 'tie', 'rope', 'thick', 'enough', 'hold', 'weight', 'i', 'reason', 'left', 'here', 'my', 'year', 'half', 'long', 'relationship', 'end', 'peoplethink', 'im', 'takingli', 'suicid', 'famili', 'split', 'sexual', 'assault', 'school', 'suck', 'if', 'anyon', 'talk', 'at', 'im', 'close', 'i', 'want', 'either', 'go', 'away', 'ill', 'make', 'go', 'away', 'im', 'therapi', 'on', 'men', 'kinda', 'gone', 'last', 'resort', 'time', 'polic', 'hospit', 'i', 'final', 'told', 'my', 'crush', 'i', 'like', 'him', 'and', 'he', 'like', 'me', 'back', 'im', 'super', 'happi', 'dd'] 773\n"
     ]
    }
   ],
   "source": [
    "from nltk.stem import PorterStemmer\n",
    "\n",
    "stemmer = PorterStemmer()\n",
    "\n",
    "stem_tokens = []\n",
    "for token in clean_spell_tokens:\n",
    "    clean = stemmer.stem(token)\n",
    "    if clean != token: print(token, \"=>\", clean)\n",
    "    stem_tokens.append(clean)\n",
    "\n",
    "print(stem_tokens, len(stem_tokens))"
   ]
  },
  {
   "cell_type": "markdown",
   "metadata": {},
   "source": [
    "#### Lemmatizing\n",
    "یکی از روش های تبدیل کلمات به فرم پایه \n",
    "\n",
    "- Lemmatizing: در این روش براساس معنی کلمه سعی میکنیم به شکل پایه کلمه برسیم و این روش بهتری است و برخلاف استمینگ کلمه بی معنی تولید نمیشود\n",
    "- Stemming: در این روش به شکل کلمه توجه میکنیم و پسوند ها و پیشوند هارا حذف میکنیم تا به شکل پایه ی ظاهری یک کلمه برسیم"
   ]
  },
  {
   "cell_type": "code",
   "execution_count": 167,
   "metadata": {},
   "outputs": [
    {
     "name": "stdout",
     "output_type": "stream",
     "text": [
      "believ\n",
      "belief\n"
     ]
    }
   ],
   "source": [
    "from nltk.stem import WordNetLemmatizer\n",
    "\n",
    "lemmatizer = WordNetLemmatizer() # by default Part of speach is Noun or Name\n",
    "print(stemmer.stem(\"believes\"))\n",
    "print(lemmatizer.lemmatize(\"believes\"))"
   ]
  },
  {
   "cell_type": "code",
   "execution_count": 168,
   "metadata": {},
   "outputs": [
    {
     "name": "stdout",
     "output_type": "stream",
     "text": [
      "teachers => teacher\n",
      "teachers => teacher\n",
      "guys => guy\n",
      "congratulations => congratulation\n",
      "girls => girl\n",
      "days => day\n",
      "hes => he\n",
      "us => u\n",
      "hes => he\n",
      "times => time\n",
      "months => month\n",
      "years => year\n",
      "months => month\n",
      "years => year\n",
      "months => month\n",
      "languages => language\n",
      "guys => guy\n",
      "songs => song\n",
      "bands => band\n",
      "subs => sub\n",
      "guys => guy\n",
      "cameras => camera\n",
      "learners => learner\n",
      "drivers => driver\n",
      "costs => cost\n",
      "things => thing\n",
      "movies => movie\n",
      "works => work\n",
      "uniforms => uniform\n",
      "serves => serf\n",
      "ps => p\n",
      "ps => p\n",
      "minutes => minute\n",
      "lets => let\n",
      "friends => friend\n",
      "thoughts => thought\n",
      "messages => message\n",
      "its => it\n",
      "needs => need\n",
      "songs => song\n",
      "thoughts => thought\n",
      "scenarios => scenario\n",
      "ios => io\n",
      "logos => logo\n",
      "photos => photo\n",
      "logos => logo\n",
      "opinions => opinion\n",
      "games => game\n",
      "gets => get\n",
      "exceptions => exception\n",
      "ones => one\n",
      "investments => investment\n",
      "teenagers => teenager\n",
      "competitors => competitor\n",
      "ways => way\n",
      "pills => pill\n",
      "holds => hold\n",
      "friends => friend\n",
      "friends => friend\n",
      "lies => lie\n",
      "lies => lie\n",
      "lies => lie\n",
      "lies => lie\n",
      "lies => lie\n",
      "wants => want\n",
      "postings => posting\n",
      "hurts => hurt\n",
      "loves => love\n",
      "cares => care\n",
      "makes => make\n",
      "reasons => reason\n",
      "heres => here\n",
      "sucks => suck\n",
      "mens => men\n",
      "resorts => resort\n",
      "times => time\n",
      "likes => like\n",
      "['teacher', 'seeing', 'submit', 'assignment', 'wonder', 'teacher', 'silently', 'judging', 'amp', 'filler', 'filter', 'flicker', 'sticker', 'kicker', 'clicked', 'my', 'uncle', 'got', 'married', 'my', 'uncle', 'got', 'married', 'beautiful', 'wife', 'i', 'would', 'like', 'present', 'something', 'i', 'couldnt', 'think', 'anything', 'else', 'tell', 'guy', 'congratulation', 'uncle', 'jeremy', 'im', 'happy', 'this', 'sad', 'the', 'story', 'girl', 'break', 'i', 'dont', 'need', 'karma', 'go', 'sport', 'how', 'much', 'edit', 'karma', 'considered', 'lot', 'two', 'day', 'ago', 'marked', 'year', 'anniversary', 'edit', 'and', 'time', 'i', 'accumulated', 'bit', 'karma', 'so', 'i', 'wondering', 'much', 'karma', 'considered', 'lot', 'cat', 'attack', 'cat', 'decided', 'jump', 'underneath', 'chair', 'attack', 'barely', 'even', 'scratched', 'cat', 'annoying', 'name', 'edyedmond', 'he', 'always', 'surprising', 'u', 'time', 'he', 'super', 'friendly', 'fun', 'time', 'the', 'first', 'youtube', 'video', 'made', 'closer', 'today', 'look', 'month', 'it', 'year', 'month', 'since', 'video', 'made', 'back', 'video', 'made', 'year', 'month', 'away', 'december', 'why', 'chinese', 'people', 'speak', 'chinese', 'difficult', 'they', 'learn', 'easier', 'language', 'like', 'english', 'spanish', 'they', 'speak', 'like', 'language', 'china', 'i', 'wont', 'list', 'edit', 'actually', 'speak', 'lot', 'ok', 'i', 'draw', 'portrait', 'im', 'bored', 'need', 'inspiration', 'yeah', 'id', 'ig', 'ill', 'pick', 'favorite', 'draw', 'can', 'recommend', 'music', 'listen', 'so', 'im', 'bored', 'cant', 'fall', 'asleep', 'guy', 'know', 'good', 'song', 'band', 'i', 'tried', 'saying', 'get', 'mil', 'sub', 'reason', 'got', 'lot', 'hate', 'boy', 'joke', 'are', 'guy', 'allowed', 'switch', 'camera', 'online', 'class', 'because', 'im', 'maybe', 'american', 'thing', 'id', 'to', 'anyone', 'worried', 'college', 'remember', 'one', 'thing', 'if', 'kaitlyn', 'bennett', 'get', 'college', 'i', 'finally', 'after', 'year', 'learner', 'permit', 'i', 'finally', 'took', 'driver', 'license', 'test', 'today', 'passed', 'edit', 'cost', 'billion', 'if', 'raise', 'money', 'buy', 'edit', 'make', 'thing', 'crash', 'quicker', 'please', 'spread', 'news', 'god', 'princess', 'frog', 'underrated', 'disney', 'princess', 'movie', 'probably', 'favorite', 'disney', 'princess', 'movie', 'if', 'want', 'feel', 'wanted', 'someone', 'just', 'rob', 'bank', 'whole', 'police', 'looking', 'work', 'overtime', 'depressed', 'stop', 'depressed', 'happy', 'draw', 'part', 'why', 'people', 'hate', 'british', 'uniform', 'they', 'look', 'pretty', 'i', 'dont', 'understand', 'people', 'think', 'theyre', 'ugly', 'how', 'join', 'minecraft', 'serf', 'p', 'i', 'recently', 'bought', 'minecraft', 'dont', 'know', 'also', 'p', 'plus', 'necessary', 'i', 'got', 'a', 'writing', 'essay', 'book', 'i', 'didnt', 'read', 'it', 'class', 'write', 'i', 'minute', 'yo', 'let', 'chat', 'hu', 'interested', 'try', 'make', 'friend', 'also', 'im', 'bored', 'why', 'thought', 'diving', 'make', 'happy', 'plan', 'going', 'happen', 'if', 'wasnt', 'waiting', 'something', 'i', 'would', 'go', 'right', 'why', 'thought', 'excite', 'im', 'still', 'alive', 'im', 'deleting', 'edit', 'tomorowthanks', 'kind', 'message', 'place', 'fucking', 'toxic', 'continue', 'u', 'wan', 'na', 'talk', 'i', 'discord', 'aquamarine', 'writing', 'something', 'positive', 'day', 'day', 'i', 'slept', 'night', 'i', 'wasnt', 'tired', 'today', 'fun', 'fact', 'you', 'never', 'using', 'skeleton', 'it', 'even', 'yet', 'dark', 'outside', 'why', 'this', 'getting', 'ridiculous', 'the', 'sun', 'need', 'stop', 'lacking', 'i', 'listening', 'song', 'sdcardmusichans', 'zimerinceptionmombasawav', 'with', 'surround', 'sound', 'on', 'soundalive', 'is', 'that', 'thought', 'cringyembarasing', 'alternate', 'scenario', 'almost', 'happened', 'life', 'name', 'your', 'mood', 'and', 'ill', 'recommend', 'a', 'song', 'will', 'try', 'pick', 'song', 'enjoy', 'based', 'mood', 'enjoy', 'whats', 'song', 'recommend', 'everyone', 'no', 'matter', 'genre', 'like', 'song', 'recommend', 'everyone', 'how', 'i', 'change', 'io', 'ap', 'logo', 'photo', 'im', 'honestly', 'i', 'know', 'change', 'ap', 'logo', 'help', 'spicy', 'fried', 'chicken', 'gtgtgtgtgt', 'spice', 'tender', 'meat', 'aroma', 'everything', 'good', 'stalker', 'metro', 'fallout', 'i', 'want', 'hear', 'opinion', 'game', 'funniest', 'comment', 'get', 'free', 'helpful', 'award', 'i', 'really', 'need', 'laugh', 'e', 'lalalalalalalalalalalalalalalalalalalalalalala', 'brbrbrbrbrbrbrbrbrbrbrbrbrbrbrbrbrb', 'i', 'dont', 'like', 'emoji', 'but', 'make', 'exception', 'one', 'williams', 'got', 'an', 'investment', 'i', 'dont', 'know', 'investment', 'go', 'williams', 'go', 'ucolstarfish', 'favorite', 'editor', 'ucolstarfish', 'favorite', 'editor', 'now', 'ill', 'best', 'user', 'teenager', 'and', 'competitor', 'turned', 'stone', 'methodsjust', 'purely', 'theoretic', 'discussion', 'easiest', 'way', 'would', 'preferred', 'way', 'least', 'impact', 'family', 'least', 'destruction', 'body', 'sleeping', 'pillow', 'kill', 'effectively', 'using', 'sleeping', 'pill', 'alcohol', 'like', 'vodka', 'i', 'dont', 'want', 'end', 'vegetable', 'only', 'hold', 'back', 'thats', 'im', 'asking', 'friend', 'someone', 'please', 'please', 'tell', 'tom', 'good', 'person', 'want', 'stop', 'want', 'it', 'stop', 'b', 'ad', 'im', 'scared', 'would', 'happen', 'want', 'dont', 'know', 'hurt', 'friend', 'hey', 'stalked', 'fault', 'first', 'place', 'c', 'saw', 'lie', 'lie', 'lie', 'lie', 'lie', 'them', 'dont', 'think', 'gd', 'want', 'anymore', 'think', 'im', 'supposed', 'gone', 'have', 'mg', 'canal', 'thinking', 'taking', 'dont', 'know', 'im', 'even', 'posting', 'much', 'it', 'hurt', 'everyday', 'my', 'sleep', 'i', 'peace', 'i', 'want', 'forever', 'day', 'one', 'posting', 'something', 'interesting', 'happens', 'qwertyiopasdfghjklzxcvbnm', 'guess', 'cant', 'sleep', 'how', 'i', 'supposed', 'die', 'sleep', 'i', 'cant', 'sleep', 'i', 'dont', 'think', 'ill', 'itis', 'awfully', 'tempting', 'though', 'just', 'going', 'rough', 'patch', 'i', 'see', 'reason', 'one', 'actually', 'love', 'everyone', 'faking', 'caring', 'men', 'one', 'actually', 'care', 'listen', 'understand', 'im', 'fault', 'everything', 'nothing', 'reversible', 'nothing', 'make', 'happy', 'absolutely', 'nothing', 'i', 'plan', 'go', 'outside', 'city', 'hang', 'tree', 'i', 'even', 'picked', 'specific', 'tree', 'easy', 'climb', 'place', 'tie', 'rope', 'thick', 'enough', 'hold', 'weight', 'i', 'reason', 'left', 'here', 'my', 'year', 'half', 'long', 'relationship', 'ended', 'peoplethink', 'im', 'takinglying', 'suicidal', 'family', 'splitting', 'sexual', 'assault', 'school', 'suck', 'if', 'anyone', 'talk', 'at', 'im', 'close', 'i', 'want', 'either', 'go', 'away', 'ill', 'make', 'go', 'away', 'im', 'therapy', 'on', 'men', 'kinda', 'gone', 'last', 'resort', 'time', 'police', 'hospital', 'i', 'finally', 'told', 'my', 'crush', 'i', 'liked', 'him', 'and', 'he', 'like', 'me', 'back', 'im', 'super', 'happy', 'dd'] 773\n"
     ]
    }
   ],
   "source": [
    "from nltk.stem import WordNetLemmatizer\n",
    "\n",
    "lemmatizer = WordNetLemmatizer() # by default Part of speach is Noun or Name\n",
    "\n",
    "lem_tokens = []\n",
    "for token in clean_spell_tokens:\n",
    "    clean = lemmatizer.lemmatize(token)\n",
    "    if clean != token: print(token, \"=>\", clean)\n",
    "    lem_tokens.append(clean)\n",
    "\n",
    "print(lem_tokens, len(lem_tokens))"
   ]
  }
 ],
 "metadata": {
  "kernelspec": {
   "display_name": "Python 3.9.12 ('base')",
   "language": "python",
   "name": "python3"
  },
  "language_info": {
   "codemirror_mode": {
    "name": "ipython",
    "version": 3
   },
   "file_extension": ".py",
   "mimetype": "text/x-python",
   "name": "python",
   "nbconvert_exporter": "python",
   "pygments_lexer": "ipython3",
   "version": "3.9.12"
  },
  "orig_nbformat": 4,
  "vscode": {
   "interpreter": {
    "hash": "ca2def1b9e8aedfa991e7a1cb37508b48ad3956d8615a6e2a1c5b4e03c0d1558"
   }
  }
 },
 "nbformat": 4,
 "nbformat_minor": 2
}
