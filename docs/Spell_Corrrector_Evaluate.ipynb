{
 "cells": [
  {
   "cell_type": "markdown",
   "metadata": {},
   "source": [
    "# Spell Correction Evaluation\n",
    "\n",
    "In this repository, based on the following dataset, we evaluate and compare the autocorrect library and the tool that we implemented from the scratch using **wordnet** and **nltk** based on accuracy."
   ]
  },
  {
   "cell_type": "markdown",
   "metadata": {},
   "source": [
    "## Dataset\n",
    "https://www.kaggle.com/datasets/bittlingmayer/spelling"
   ]
  },
  {
   "cell_type": "markdown",
   "metadata": {},
   "source": [
    "We Have two Spell Correction Tools\n",
    "1. we implemented spell corrector using **wordnet** and **nltk**\n",
    "2. autocorrect library"
   ]
  },
  {
   "cell_type": "markdown",
   "metadata": {},
   "source": [
    "### Load Dataset"
   ]
  },
  {
   "cell_type": "code",
   "execution_count": 108,
   "metadata": {},
   "outputs": [
    {
     "data": {
      "text/html": [
       "<div>\n",
       "<style scoped>\n",
       "    .dataframe tbody tr th:only-of-type {\n",
       "        vertical-align: middle;\n",
       "    }\n",
       "\n",
       "    .dataframe tbody tr th {\n",
       "        vertical-align: top;\n",
       "    }\n",
       "\n",
       "    .dataframe thead th {\n",
       "        text-align: right;\n",
       "    }\n",
       "</style>\n",
       "<table border=\"1\" class=\"dataframe\">\n",
       "  <thead>\n",
       "    <tr style=\"text-align: right;\">\n",
       "      <th></th>\n",
       "      <th>correct</th>\n",
       "      <th>incorrect</th>\n",
       "    </tr>\n",
       "  </thead>\n",
       "  <tbody>\n",
       "    <tr>\n",
       "      <th>0</th>\n",
       "      <td>nevada</td>\n",
       "      <td>nevade</td>\n",
       "    </tr>\n",
       "    <tr>\n",
       "      <th>1</th>\n",
       "      <td>ability</td>\n",
       "      <td>abilitey</td>\n",
       "    </tr>\n",
       "    <tr>\n",
       "      <th>2</th>\n",
       "      <td>about</td>\n",
       "      <td>abouy</td>\n",
       "    </tr>\n",
       "    <tr>\n",
       "      <th>3</th>\n",
       "      <td>absorption</td>\n",
       "      <td>absorbtion</td>\n",
       "    </tr>\n",
       "    <tr>\n",
       "      <th>4</th>\n",
       "      <td>accidentally</td>\n",
       "      <td>accidently</td>\n",
       "    </tr>\n",
       "  </tbody>\n",
       "</table>\n",
       "</div>"
      ],
      "text/plain": [
       "        correct    incorrect\n",
       "0        nevada       nevade\n",
       "1       ability     abilitey\n",
       "2         about        abouy\n",
       "3    absorption   absorbtion\n",
       "4  accidentally   accidently"
      ]
     },
     "execution_count": 108,
     "metadata": {},
     "output_type": "execute_result"
    }
   ],
   "source": [
    "import pandas as pd\n",
    "\n",
    "df = pd.read_csv(\"spell_corpus/aspell.txt\", header=None, sep=\":\", names=[\"correct\", \"incorrect\"])\n",
    "df.head()"
   ]
  },
  {
   "cell_type": "code",
   "execution_count": 109,
   "metadata": {},
   "outputs": [
    {
     "name": "stdout",
     "output_type": "stream",
     "text": [
      "(450, 2)\n"
     ]
    }
   ],
   "source": [
    "print(df.shape) # we have 450 words for evaluations"
   ]
  },
  {
   "cell_type": "code",
   "execution_count": 110,
   "metadata": {},
   "outputs": [],
   "source": [
    "correct_list = list(df[\"correct\"])\n",
    "incorrect_list = list(df[\"incorrect\"])"
   ]
  },
  {
   "cell_type": "markdown",
   "metadata": {},
   "source": [
    "## 1.spell corrector with wordnet and nltk and edit distance score"
   ]
  },
  {
   "cell_type": "code",
   "execution_count": 111,
   "metadata": {},
   "outputs": [],
   "source": [
    "import nltk\n",
    "from nltk.metrics.distance  import edit_distance"
   ]
  },
  {
   "cell_type": "code",
   "execution_count": 112,
   "metadata": {},
   "outputs": [
    {
     "name": "stderr",
     "output_type": "stream",
     "text": [
      "[nltk_data] Downloading package wordnet to\n",
      "[nltk_data]     C:\\Users\\AsusIran\\AppData\\Roaming\\nltk_data...\n",
      "[nltk_data]   Package wordnet is already up-to-date!\n"
     ]
    }
   ],
   "source": [
    "nltk.download('wordnet')\n",
    "\n",
    "from nltk.corpus import wordnet"
   ]
  },
  {
   "cell_type": "markdown",
   "metadata": {},
   "source": [
    "### For Example"
   ]
  },
  {
   "cell_type": "code",
   "execution_count": 113,
   "metadata": {},
   "outputs": [
    {
     "name": "stdout",
     "output_type": "stream",
     "text": [
      "happy\n",
      "amazing\n",
      "intelligent\n"
     ]
    }
   ],
   "source": [
    "incorrect_words = ['happpy', 'azmaing', 'intelliengt']\n",
    "  \n",
    "# loop for finding correct spellings based on edit distance and\n",
    "for word in incorrect_words:\n",
    "    temp = [(edit_distance(word, w),w) for w in wordnet.words() if w[0]==word[0]]\n",
    "    print(sorted(temp, key = lambda val:val[0])[0][1])"
   ]
  },
  {
   "cell_type": "markdown",
   "metadata": {},
   "source": [
    "### Evaluation by Accuracy"
   ]
  },
  {
   "cell_type": "code",
   "execution_count": 114,
   "metadata": {},
   "outputs": [],
   "source": [
    "# loop for finding correct spellings based on edit distance and\n",
    "spell_predicted_list = []\n",
    "for word in incorrect_list:\n",
    "    word = word.strip()\n",
    "    temp = [(edit_distance(word, w),w) for w in wordnet.words() if w[0]==word[0]]\n",
    "    spell_predicted = sorted(temp, key = lambda val:val[0])[0][1]\n",
    "    spell_predicted_list.append(spell_predicted)"
   ]
  },
  {
   "cell_type": "markdown",
   "metadata": {},
   "source": [
    "- spell correction duration time on **450 words**: 4m 34.2s"
   ]
  },
  {
   "cell_type": "markdown",
   "metadata": {},
   "source": [
    "### some of spell correction (25 samples)"
   ]
  },
  {
   "cell_type": "code",
   "execution_count": 125,
   "metadata": {},
   "outputs": [
    {
     "name": "stdout",
     "output_type": "stream",
     "text": [
      "Incorrect:  nevade | Predicted:  nevada | Actual Spell:  nevada\n",
      "Incorrect:  abilitey | Predicted:  ability | Actual Spell:  ability\n",
      "Incorrect:  abouy | Predicted:  about | Actual Spell:  about\n",
      "Incorrect:  absorbtion | Predicted:  absorption | Actual Spell:  absorption\n",
      "Incorrect:  accidently | Predicted:  accidental | Actual Spell:  accidentally\n",
      "Incorrect:  accomodate acommadate | Predicted:  accommodational | Actual Spell:  accommodate\n",
      "Incorrect:  acord | Predicted:  acold | Actual Spell:  accord\n",
      "Incorrect:  aquantance | Predicted:  acquaintance | Actual Spell:  acquaintance\n",
      "Incorrect:  equire | Predicted:  equine | Actual Spell:  acquire\n",
      "Incorrect:  adultry | Predicted:  adultery | Actual Spell:  adultery\n",
      "Incorrect:  aggresive | Predicted:  aggressive | Actual Spell:  aggressive\n",
      "Incorrect:  alchohol | Predicted:  alcohol | Actual Spell:  alcohol\n",
      "Incorrect:  alchoholic | Predicted:  alcoholic | Actual Spell:  alcoholic\n",
      "Incorrect:  allieve | Predicted:  alive | Actual Spell:  alive\n",
      "Incorrect:  alright | Predicted:  alright | Actual Spell:  all_right\n",
      "Incorrect:  amature | Predicted:  armature | Actual Spell:  amateur\n",
      "Incorrect:  ambivilant | Predicted:  ambivalent | Actual Spell:  ambivalent\n",
      "Incorrect:  amourfous | Predicted:  amorous | Actual Spell:  amorphous\n",
      "Incorrect:  amification | Predicted:  amplification | Actual Spell:  amplification\n",
      "Incorrect:  anonomy anotomy | Predicted:  amygdalotomy | Actual Spell:  anatomy\n",
      "Incorrect:  annuncio | Predicted:  announced | Actual Spell:  announce\n",
      "Incorrect:  annonsment | Predicted:  announcement | Actual Spell:  announcement\n",
      "Incorrect:  annoint | Predicted:  anoint | Actual Spell:  anoint\n",
      "Incorrect:  anynomous | Predicted:  anonymous | Actual Spell:  anonymous\n",
      "Incorrect:  appresteate | Predicted:  appreciate | Actual Spell:  appreciate\n"
     ]
    }
   ],
   "source": [
    "for i in range(0, 25):\n",
    "    print(\"Incorrect:\", incorrect_list[i], \"| Predicted: \", spell_predicted_list[i], \"| Actual Spell: \", correct_list[i])"
   ]
  },
  {
   "cell_type": "markdown",
   "metadata": {},
   "source": [
    "### Calculate accuracy"
   ]
  },
  {
   "cell_type": "code",
   "execution_count": 126,
   "metadata": {},
   "outputs": [
    {
     "name": "stdout",
     "output_type": "stream",
     "text": [
      "Number of Samples:  450\n",
      "Number of True Spell Correction:  173\n",
      "Accuracy:  38.44444444444444 %\n"
     ]
    }
   ],
   "source": [
    "true_prediction = 0\n",
    "for i in range(len(correct_list)):\n",
    "    if spell_predicted_list[i] == correct_list[i]:\n",
    "        true_prediction += 1\n",
    "\n",
    "print(\"Number of Samples: \", len(correct_list))\n",
    "print(\"Number of True Spell Correction: \", true_prediction)\n",
    "print(\"Accuracy: \", (true_prediction/len(correct_list))*100, \"%\")"
   ]
  },
  {
   "cell_type": "markdown",
   "metadata": {},
   "source": [
    "## 2. autocorrect library"
   ]
  },
  {
   "cell_type": "code",
   "execution_count": 127,
   "metadata": {},
   "outputs": [
    {
     "name": "stdout",
     "output_type": "stream",
     "text": [
      "Requirement already satisfied: autocorrect in c:\\users\\asusiran\\anaconda3\\lib\\site-packages (2.6.1)\n"
     ]
    }
   ],
   "source": [
    "! pip install autocorrect"
   ]
  },
  {
   "cell_type": "code",
   "execution_count": 128,
   "metadata": {},
   "outputs": [],
   "source": [
    "from autocorrect import Speller\n",
    "\n",
    "speller = Speller()\n",
    "\n",
    "spell_predicted_list = []\n",
    "for word in incorrect_list:\n",
    "    clean = speller(word.strip())\n",
    "    spell_predicted_list.append(clean)"
   ]
  },
  {
   "cell_type": "markdown",
   "metadata": {},
   "source": [
    "- spell correction duration time on **450 words**: 19.1s"
   ]
  },
  {
   "cell_type": "markdown",
   "metadata": {},
   "source": [
    "### some of spell correction (25 samples)"
   ]
  },
  {
   "cell_type": "code",
   "execution_count": 129,
   "metadata": {},
   "outputs": [
    {
     "name": "stdout",
     "output_type": "stream",
     "text": [
      "Incorrect:  nevade | Predicted:  evade | Actual Spell:  nevada\n",
      "Incorrect:  abilitey | Predicted:  ability | Actual Spell:  ability\n",
      "Incorrect:  abouy | Predicted:  about | Actual Spell:  about\n",
      "Incorrect:  absorbtion | Predicted:  absorption | Actual Spell:  absorption\n",
      "Incorrect:  accidently | Predicted:  accident | Actual Spell:  accidentally\n",
      "Incorrect:  accomodate acommadate | Predicted:  accommodate accommodate | Actual Spell:  accommodate\n",
      "Incorrect:  acord | Predicted:  cord | Actual Spell:  accord\n",
      "Incorrect:  aquantance | Predicted:  acquaintance | Actual Spell:  acquaintance\n",
      "Incorrect:  equire | Predicted:  require | Actual Spell:  acquire\n",
      "Incorrect:  adultry | Predicted:  adultery | Actual Spell:  adultery\n",
      "Incorrect:  aggresive | Predicted:  aggressive | Actual Spell:  aggressive\n",
      "Incorrect:  alchohol | Predicted:  alcohol | Actual Spell:  alcohol\n",
      "Incorrect:  alchoholic | Predicted:  alcoholic | Actual Spell:  alcoholic\n",
      "Incorrect:  allieve | Predicted:  believe | Actual Spell:  alive\n",
      "Incorrect:  alright | Predicted:  alright | Actual Spell:  all_right\n",
      "Incorrect:  amature | Predicted:  mature | Actual Spell:  amateur\n",
      "Incorrect:  ambivilant | Predicted:  ambivalent | Actual Spell:  ambivalent\n",
      "Incorrect:  amourfous | Predicted:  amourfous | Actual Spell:  amorphous\n",
      "Incorrect:  amification | Predicted:  unification | Actual Spell:  amplification\n",
      "Incorrect:  anonomy anotomy | Predicted:  economy anatomy | Actual Spell:  anatomy\n",
      "Incorrect:  annuncio | Predicted:  anuncia | Actual Spell:  announce\n",
      "Incorrect:  annonsment | Predicted:  annonsment | Actual Spell:  announcement\n",
      "Incorrect:  annoint | Predicted:  appoint | Actual Spell:  anoint\n",
      "Incorrect:  anynomous | Predicted:  anonymous | Actual Spell:  anonymous\n",
      "Incorrect:  appresteate | Predicted:  appresteate | Actual Spell:  appreciate\n"
     ]
    }
   ],
   "source": [
    "for i in range(0, 25):\n",
    "    print(\"Incorrect:\", incorrect_list[i], \"| Predicted: \", spell_predicted_list[i], \"| Actual Spell: \", correct_list[i])"
   ]
  },
  {
   "cell_type": "markdown",
   "metadata": {},
   "source": [
    "### Calculate accuracy"
   ]
  },
  {
   "cell_type": "code",
   "execution_count": 130,
   "metadata": {},
   "outputs": [
    {
     "name": "stdout",
     "output_type": "stream",
     "text": [
      "Number of Samples:  450\n",
      "Number of True Spell Correction:  182\n",
      "Accuracy:  40.44444444444444 %\n"
     ]
    }
   ],
   "source": [
    "true_prediction = 0\n",
    "for i in range(len(correct_list)):\n",
    "    if spell_predicted_list[i] == correct_list[i]:\n",
    "        true_prediction += 1\n",
    "\n",
    "print(\"Number of Samples: \", len(correct_list))\n",
    "print(\"Number of True Spell Correction: \", true_prediction)\n",
    "print(\"Accuracy: \", (true_prediction/len(correct_list))*100, \"%\")"
   ]
  }
 ],
 "metadata": {
  "kernelspec": {
   "display_name": "Python 3.9.12 ('base')",
   "language": "python",
   "name": "python3"
  },
  "language_info": {
   "codemirror_mode": {
    "name": "ipython",
    "version": 3
   },
   "file_extension": ".py",
   "mimetype": "text/x-python",
   "name": "python",
   "nbconvert_exporter": "python",
   "pygments_lexer": "ipython3",
   "version": "3.9.12"
  },
  "orig_nbformat": 4,
  "vscode": {
   "interpreter": {
    "hash": "ca2def1b9e8aedfa991e7a1cb37508b48ad3956d8615a6e2a1c5b4e03c0d1558"
   }
  }
 },
 "nbformat": 4,
 "nbformat_minor": 2
}
