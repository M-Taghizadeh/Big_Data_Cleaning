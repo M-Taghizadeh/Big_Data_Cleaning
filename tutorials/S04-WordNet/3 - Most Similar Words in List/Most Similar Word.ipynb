{
 "cells": [
  {
   "cell_type": "code",
   "execution_count": 21,
   "metadata": {
    "collapsed": true
   },
   "outputs": [],
   "source": [
    "from nltk.corpus import wordnet\n",
    "\n",
    "\n",
    "def mostsimilar(my_list):\n",
    "    max_sim = 0\n",
    "    most_similar_words = tuple()\n",
    "\n",
    "    for i in range (0, len(my_list)-1):\n",
    "        for syn1 in wordnet.synsets(my_list[i]):\n",
    "            for j in range(i+1, len(my_list)):\n",
    "                for syn2 in wordnet.synsets(my_list[j]):\n",
    "                    x = syn1.wup_similarity(syn2)\n",
    "                    if x:\n",
    "                        if(x > max_sim):\n",
    "                            most_similar_words = my_list[i], my_list[j], x\n",
    "                            max_sim = x\n",
    "    return most_similar_words"
   ]
  },
  {
   "cell_type": "code",
   "execution_count": 29,
   "metadata": {
    "collapsed": false
   },
   "outputs": [
    {
     "data": {
      "text/plain": [
       "('laptop', 'computer', 0.8181818181818182)"
      ]
     },
     "execution_count": 29,
     "metadata": {},
     "output_type": "execute_result"
    }
   ],
   "source": [
    "mostsimilar([\"cinema\", \"laptop\", \"computer\", \"apple\"])"
   ]
  }
 ],
 "metadata": {
  "kernelspec": {
   "display_name": "Python 3.10.3 64-bit",
   "language": "python",
   "name": "python3"
  },
  "language_info": {
   "codemirror_mode": {
    "name": "ipython",
    "version": 3
   },
   "file_extension": ".py",
   "mimetype": "text/x-python",
   "name": "python",
   "nbconvert_exporter": "python",
   "pygments_lexer": "ipython3",
   "version": "3.10.3"
  },
  "vscode": {
   "interpreter": {
    "hash": "bcfb44a863067ea4e90f0953beba97ab92d217ab9037ee4bc593c867b78e2025"
   }
  }
 },
 "nbformat": 4,
 "nbformat_minor": 2
}
