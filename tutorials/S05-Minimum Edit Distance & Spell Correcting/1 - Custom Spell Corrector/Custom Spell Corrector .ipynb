{
 "cells": [
  {
   "cell_type": "code",
   "execution_count": 1,
   "metadata": {
    "collapsed": false
   },
   "outputs": [
    {
     "data": {
      "text/plain": [
       "26"
      ]
     },
     "execution_count": 1,
     "metadata": {},
     "output_type": "execute_result"
    }
   ],
   "source": [
    "from nltk.corpus import wordnet\n",
    "\n",
    "\n",
    "alphabet=[\"a\",\"b\",\"c\",\"d\",\"e\",\"f\",\"g\",\"h\",\"i\",\"j\",\"k\",\"l\",\"m\",\"n\",\"o\",\"p\",\"q\",\"r\",\"s\",\"t\",\"u\",\"v\",\"w\",\"x\",\"y\",\"z\"]\n",
    "len(alphabet)"
   ]
  },
  {
   "cell_type": "code",
   "execution_count": 12,
   "metadata": {
    "collapsed": true
   },
   "outputs": [],
   "source": [
    "def ins_correct(word):\n",
    "    if wordnet.synsets(word): return word\n",
    "    words = [] # در این لیست کلمات کاندید برای این کلمه را ذخیره میکنیم\n",
    "    for i in range(0, len(word)+1): # هر کاراکتر از کلمه را دانه دانه میبینیم و بررسی میکنیم\n",
    "        first = str(word[0:i]) # قسمت اول کلمه \n",
    "        last = str(word[i:len(word)]) # قسمت آخر کلمه\n",
    "        for alpha in alphabet: # یک کاراکتر هر بار اضافه میکنیم\n",
    "            new_word = first + alpha + last\n",
    "            if wordnet.synsets(new_word): words.append(new_word)\n",
    "\n",
    "    return set(words)"
   ]
  },
  {
   "cell_type": "code",
   "execution_count": 13,
   "metadata": {
    "collapsed": false
   },
   "outputs": [
    {
     "data": {
      "text/plain": [
       "{'blok', 'bock', 'bonk', 'book', 'bosk'}"
      ]
     },
     "execution_count": 13,
     "metadata": {},
     "output_type": "execute_result"
    }
   ],
   "source": [
    "ins_correct(\"bok\")"
   ]
  },
  {
   "cell_type": "code",
   "execution_count": 14,
   "metadata": {
    "collapsed": true
   },
   "outputs": [],
   "source": [
    "def del_correct(word):\n",
    "    if wordnet.synsets(word): return word\n",
    "    words=[]\n",
    "    for i in range(0,len(word)):\n",
    "        new_word = str(word[0:i]) + str(word[i+1:len(word)]) # هر بار یک کاراکتر از کلمه را حذف میکنیم\n",
    "        if wordnet.synsets(new_word): words.append(new_word)\n",
    "    return set(words)"
   ]
  },
  {
   "cell_type": "code",
   "execution_count": 38,
   "metadata": {
    "collapsed": false
   },
   "outputs": [
    {
     "data": {
      "text/plain": [
       "{'teach'}"
      ]
     },
     "execution_count": 38,
     "metadata": {},
     "output_type": "execute_result"
    }
   ],
   "source": [
    "del_correct(\"teacch\")"
   ]
  }
 ],
 "metadata": {
  "kernelspec": {
   "display_name": "Python 3",
   "language": "python",
   "name": "python3"
  },
  "language_info": {
   "codemirror_mode": {
    "name": "ipython",
    "version": 3
   },
   "file_extension": ".py",
   "mimetype": "text/x-python",
   "name": "python",
   "nbconvert_exporter": "python",
   "pygments_lexer": "ipython3",
   "version": "3.6.0"
  }
 },
 "nbformat": 4,
 "nbformat_minor": 2
}
