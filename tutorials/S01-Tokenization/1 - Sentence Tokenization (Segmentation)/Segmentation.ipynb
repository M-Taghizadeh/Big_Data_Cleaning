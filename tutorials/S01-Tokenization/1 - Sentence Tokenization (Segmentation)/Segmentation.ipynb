{
 "cells": [
  {
   "cell_type": "markdown",
   "metadata": {},
   "source": [
    "## check NLTK"
   ]
  },
  {
   "cell_type": "code",
   "execution_count": 1,
   "metadata": {
    "collapsed": false
   },
   "outputs": [
    {
     "name": "stdout",
     "output_type": "stream",
     "text": [
      "3.7\n"
     ]
    }
   ],
   "source": [
    "# pip install nltk\n",
    "import nltk\n",
    "\n",
    "\n",
    "print(nltk.__version__)"
   ]
  },
  {
   "cell_type": "markdown",
   "metadata": {},
   "source": [
    "## install PUNKT"
   ]
  },
  {
   "cell_type": "code",
   "execution_count": 2,
   "metadata": {
    "collapsed": false
   },
   "outputs": [
    {
     "name": "stderr",
     "output_type": "stream",
     "text": [
      "[nltk_data] Downloading package punkt to\n",
      "[nltk_data]     C:\\Users\\AsusIran\\AppData\\Roaming\\nltk_data...\n",
      "[nltk_data]   Package punkt is already up-to-date!\n"
     ]
    },
    {
     "data": {
      "text/plain": [
       "True"
      ]
     },
     "execution_count": 2,
     "metadata": {},
     "output_type": "execute_result"
    }
   ],
   "source": [
    "import nltk\n",
    "\n",
    "\n",
    "nltk.download(\"punkt\")"
   ]
  },
  {
   "cell_type": "markdown",
   "metadata": {},
   "source": [
    "## Sentence Tokenizer"
   ]
  },
  {
   "cell_type": "code",
   "execution_count": 3,
   "metadata": {
    "collapsed": false
   },
   "outputs": [
    {
     "name": "stdout",
     "output_type": "stream",
     "text": [
      "[\"\\n... Muad'Dib learned rapidly because his first training was in how to learn.\", '... And the first lesson of all was the basic trust that he could learn.', '...', \"It's shocking to find how many people do not believe they can learn,\\n... and how many more believe learning to be difficult!\"]\n",
      "['...', \"Muad'Dib\", 'learned', 'rapidly', 'because', 'his', 'first', 'training', 'was', 'in', 'how', 'to', 'learn', '.', '...', 'And', 'the', 'first', 'lesson', 'of', 'all', 'was', 'the', 'basic', 'trust', 'that', 'he', 'could', 'learn', '.', '...', 'It', \"'s\", 'shocking', 'to', 'find', 'how', 'many', 'people', 'do', 'not', 'believe', 'they', 'can', 'learn', ',', '...', 'and', 'how', 'many', 'more', 'believe', 'learning', 'to', 'be', 'difficult', '!']\n"
     ]
    }
   ],
   "source": [
    "from nltk.tokenize import sent_tokenize, word_tokenize\n",
    "\n",
    "\n",
    "example_string = \"\"\"\n",
    "... Muad'Dib learned rapidly because his first training was in how to learn.\n",
    "... And the first lesson of all was the basic trust that he could learn.\n",
    "... It's shocking to find how many people do not believe they can learn,\n",
    "... and how many more believe learning to be difficult!\"\"\"\n",
    "\n",
    "print(sent_tokenize(example_string))\n",
    "print(word_tokenize(example_string))"
   ]
  },
  {
   "cell_type": "code",
   "execution_count": 4,
   "metadata": {
    "collapsed": false
   },
   "outputs": [
    {
     "data": {
      "text/plain": [
       "['سلام!', 'اسم من احسان است.', 'حالتان چطور است ؟']"
      ]
     },
     "execution_count": 4,
     "metadata": {},
     "output_type": "execute_result"
    }
   ],
   "source": [
    "matn=\"سلام! اسم من احسان است. حالتان چطور است ؟\"\n",
    "sent_tokenize(matn)"
   ]
  },
  {
   "cell_type": "markdown",
   "metadata": {},
   "source": [
    "## How to open text"
   ]
  },
  {
   "cell_type": "code",
   "execution_count": 5,
   "metadata": {
    "collapsed": false
   },
   "outputs": [
    {
     "name": "stdout",
     "output_type": "stream",
     "text": [
      "Keloğlan ve Sihirli Mühür\n",
      "\n",
      "Bir gün, Keloğlan pazarda tohumlarını sattıktan sonra evine doğru yürüyormuş. O gün pazarda 3 tane altın kazanmış ve bu da onu çok mutlu etmiş; çünkü annesi artık bu üç altınla kendisine kış için kıyafet ve yiyecek alabilecekmiş.\n",
      "\n",
      "Keloğlan, birden bir grup çocuğun bir kediyi sopayla rahatsız ettiğini görmüş. Kedi çok korkmuş gözüküyormuş ve grubun elinden kurtulması mümkün değilmiş. Keloğlan hemen ortaya atılmış. Alın şu altını da onu dövmeyi bırakın, demiş. Adamlar kediyle uğraşmayı bırakmayı kabul etmiş ve Keloğlan altını çocuklara vermiş. Kedi Keloğlan’a minnettar kalmış ve yanından ayrılmamış. Bu iyiliğinin karşılığını ileride bir gün ödemeye söz vermiş. Keloğlan bir kedinin kendisine nasıl yardım edebileceğini o an için hayal edememiş ama kedinin kendisine katılmasını kabul etmiş. Böylece iki arkadaş yollarına devam etmişler.\n",
      "\n",
      "Keloğlan ve kedi birkaç kilometre yürümüşler ki birkaç kişinin sürekli havladığı için bir köpeği sopaladığını görmüşler. Keloğla\n"
     ]
    }
   ],
   "source": [
    "f = open(\"turkish.txt\",encoding=\"UTF-8\")\n",
    "text = f.read()\n",
    "print(text[:1000])"
   ]
  },
  {
   "cell_type": "markdown",
   "metadata": {},
   "source": [
    "## turkish sentence tokenizer"
   ]
  },
  {
   "cell_type": "code",
   "execution_count": 8,
   "metadata": {
    "collapsed": false
   },
   "outputs": [
    {
     "data": {
      "text/plain": [
       "['\\ufeffKeloğlan ve Sihirli Mühür\\n\\nBir gün, Keloğlan pazarda tohumlarını sattıktan sonra evine doğru yürüyormuş.',\n",
       " 'O gün pazarda 3 tane altın kazanmış ve bu da onu çok mutlu etmiş; çünkü annesi artık bu üç altınla kendisine kış için kıyafet ve yiyecek alabilecekmiş.',\n",
       " 'Keloğlan, birden bir grup çocuğun bir kediyi sopayla rahatsız ettiğini görmüş.',\n",
       " 'Kedi çok korkmuş gözüküyormuş ve grubun elinden kurtulması mümkün değilmiş.',\n",
       " 'Keloğlan hemen ortaya atılmış.',\n",
       " 'Alın şu altını da onu dövmeyi bırakın, demiş.',\n",
       " 'Adamlar kediyle uğraşmayı bırakmayı kabul etmiş ve Keloğlan altını çocuklara vermiş.',\n",
       " 'Kedi Keloğlan’a minnettar kalmış ve yanından ayrılmamış.',\n",
       " 'Bu iyiliğinin karşılığını ileride bir gün ödemeye söz vermiş.',\n",
       " 'Keloğlan bir kedinin kendisine nasıl yardım edebileceğini o an için hayal edememiş ama kedinin kendisine katılmasını kabul etmiş.',\n",
       " 'Böylece iki arkadaş yollarına devam etmişler.',\n",
       " 'Keloğlan ve kedi birkaç kilometre yürümüşler ki birkaç kişinin sürekli havladığı için bir köpeği sopaladığını görmüşler.',\n",
       " 'Keloğla']"
      ]
     },
     "execution_count": 8,
     "metadata": {},
     "output_type": "execute_result"
    }
   ],
   "source": [
    "import nltk.data\n",
    "\n",
    "\n",
    "tokenizer = nltk.data.load(\"tokenizers/punkt/turkish.pickle\")\n",
    "tokenizer.tokenize(text[:1000])"
   ]
  },
  {
   "cell_type": "code",
   "execution_count": 9,
   "metadata": {
    "collapsed": false
   },
   "outputs": [
    {
     "data": {
      "text/plain": [
       "79"
      ]
     },
     "execution_count": 9,
     "metadata": {},
     "output_type": "execute_result"
    }
   ],
   "source": [
    "len(tokenizer.tokenize(text))"
   ]
  }
 ],
 "metadata": {
  "kernelspec": {
   "display_name": "Python 3.10.3 64-bit",
   "language": "python",
   "name": "python3"
  },
  "language_info": {
   "codemirror_mode": {
    "name": "ipython",
    "version": 3
   },
   "file_extension": ".py",
   "mimetype": "text/x-python",
   "name": "python",
   "nbconvert_exporter": "python",
   "pygments_lexer": "ipython3",
   "version": "3.10.3"
  },
  "vscode": {
   "interpreter": {
    "hash": "bcfb44a863067ea4e90f0953beba97ab92d217ab9037ee4bc593c867b78e2025"
   }
  }
 },
 "nbformat": 4,
 "nbformat_minor": 2
}
